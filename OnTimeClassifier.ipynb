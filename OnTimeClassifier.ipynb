{
 "cells": [
  {
   "cell_type": "markdown",
   "metadata": {},
   "source": [
    "## Import Data\n",
    "Predict the airline on-time performance based the data from Bureau of Transportation Statics\n",
    "http://transtats.bts.gov/Tables.asp?DB_ID=120&DB_Name=Airline%20On-Time%20Performance%20Data&DB_Short_Name=On-Time"
   ]
  },
  {
   "cell_type": "code",
   "execution_count": 1,
   "metadata": {
    "collapsed": false
   },
   "outputs": [
    {
     "name": "stdout",
     "output_type": "stream",
     "text": [
      "300123874_T_ONTIME-1.zip  300123874_T_ONTIME-7.zip  300123874_T_ONTIME4.csv\r\n",
      "300123874_T_ONTIME-10.zip 300123874_T_ONTIME-8.zip  300123874_T_ONTIME5.csv\r\n",
      "300123874_T_ONTIME-2.zip  300123874_T_ONTIME-9.zip  300123874_T_ONTIME6.csv\r\n",
      "300123874_T_ONTIME-3.zip  300123874_T_ONTIME1.csv   300123874_T_ONTIME7.csv\r\n",
      "300123874_T_ONTIME-4.zip  300123874_T_ONTIME10.csv  300123874_T_ONTIME8.csv\r\n",
      "300123874_T_ONTIME-5.zip  300123874_T_ONTIME2.csv   300123874_T_ONTIME9.csv\r\n",
      "300123874_T_ONTIME-6.zip  300123874_T_ONTIME3.csv\r\n"
     ]
    }
   ],
   "source": [
    "!ls ./bts_data  #Check all data availablr"
   ]
  },
  {
   "cell_type": "code",
   "execution_count": 2,
   "metadata": {
    "collapsed": false
   },
   "outputs": [
    {
     "name": "stdout",
     "output_type": "stream",
     "text": [
      "2016 Oct data (1 month)\n",
      "Data Size: (445827, 10)\n"
     ]
    }
   ],
   "source": [
    "%matplotlib inline \n",
    "import numpy as np\n",
    "import pandas as pd\n",
    "import pickle\n",
    "import matplotlib.pyplot as plt\n",
    "from IPython.display import display # Allows the use of display() for DataFrames\n",
    "\n",
    "# Asemble 2016 on time flight data by combining monthly BTS reports or read only one month data for speed.\n",
    "one_year = False    \n",
    "\n",
    "if one_year : \n",
    "    import glob\n",
    "    all_data = pd.DataFrame()\n",
    "    for f in glob.glob(\"./bts_data/*.csv\"):\n",
    "        df = pd.read_csv(f)\n",
    "        all_data = all_data.append(df,ignore_index=True)\n",
    "    print \"2016 Jan - Oct data (10 months)\"\n",
    "    print \"Data Size:\", data.shape\n",
    "else:   # Or\n",
    "    data_file = './86361664_T_ONTIME.csv'\n",
    "    all_data = pd.read_csv(data_file)\n",
    "    data = all_data[['MONTH','DAY_OF_WEEK','UNIQUE_CARRIER','FL_NUM', 'TAIL_NUM','ORIGIN','DEST','CRS_DEP_TIME','DISTANCE','ARR_DELAY_NEW']]\n",
    "    print \"2016 Oct data (1 month)\"\n",
    "    print \"Data Size:\", data.shape"
   ]
  },
  {
   "cell_type": "markdown",
   "metadata": {},
   "source": [
    "## Explore Data"
   ]
  },
  {
   "cell_type": "code",
   "execution_count": 3,
   "metadata": {
    "collapsed": false
   },
   "outputs": [
    {
     "name": "stdout",
     "output_type": "stream",
     "text": [
      "Data Size after removing NAN: (433298, 10)\n"
     ]
    }
   ],
   "source": [
    "# Remove \"NAN\"\n",
    "data = data.dropna(axis=0)\n",
    "print \"Data Size after removing NAN:\", data.shape"
   ]
  },
  {
   "cell_type": "code",
   "execution_count": 4,
   "metadata": {
    "collapsed": false
   },
   "outputs": [
    {
     "name": "stdout",
     "output_type": "stream",
     "text": [
      "Data Size with top 10 airports only:  (32187, 10)\n"
     ]
    }
   ],
   "source": [
    "# Consider only top 10 busniess airports for simplicity and sufficient data.\n",
    "busy_airports = ['ATL','LAX','ORD','DFW','JFK','DFN','SFO','CLT','LAS','PHX']  # Top 10 busiest aiports\n",
    "data = data.loc[data['ORIGIN'].isin(busy_airports) & data['DEST'].isin(busy_airports)]  # Select the air traffic between top 10 airports\n",
    "print \"Data Size with top 10 airports only: \", data.shape"
   ]
  },
  {
   "cell_type": "code",
   "execution_count": 7,
   "metadata": {
    "collapsed": false,
    "scrolled": false
   },
   "outputs": [
    {
     "name": "stdout",
     "output_type": "stream",
     "text": [
      "Summary of ARRIVAL_DELAY statistics: \n"
     ]
    },
    {
     "data": {
      "text/plain": [
       "count    32187.000000\n",
       "mean        12.965514\n",
       "std         36.955196\n",
       "min          0.000000\n",
       "25%          0.000000\n",
       "50%          0.000000\n",
       "75%          9.000000\n",
       "max       1316.000000\n",
       "Name: ARR_DELAY_NEW, dtype: float64"
      ]
     },
     "metadata": {},
     "output_type": "display_data"
    },
    {
     "name": "stdout",
     "output_type": "stream",
     "text": [
      "On Time Flight percentage : 62.05 %\n"
     ]
    },
    {
     "data": {
      "image/png": "[encoded data removed]",
      "text/plain": [
       "<matplotlib.figure.Figure at 0x115348f90>"
      ]
     },
     "metadata": {},
     "output_type": "display_data"
    }
   ],
   "source": [
    "# Show summary of ARRIVAL_DELAY statistics\n",
    "y = data['ARR_DELAY_NEW']\n",
    "plt.figure(figsize=(8,4))\n",
    "plt.hist(y,bins =100)\n",
    "plt.title('Arrival Delay Distribution')\n",
    "plt.xlabel('Delayed (Mins)')\n",
    "plt.ylabel('# of Arrival')\n",
    "print('Summary of ARRIVAL_DELAY statistics: ')\n",
    "display(y.describe())\n",
    "\n",
    "\n",
    "ontime = y[y==0].count()*100./len(y)\n",
    "print 'On Time Flight percentage : %0.2f' % ontime, '%'"
   ]
  },
  {
   "cell_type": "markdown",
   "metadata": {},
   "source": [
    "### Remove Outliners"
   ]
  },
  {
   "cell_type": "code",
   "execution_count": 10,
   "metadata": {
    "collapsed": false,
    "scrolled": true
   },
   "outputs": [
    {
     "name": "stdout",
     "output_type": "stream",
     "text": [
      "Percentage of outliers to be removed: 1.1 %\n",
      "Summary of ARRIVAL_DELAY statistics: \n"
     ]
    },
    {
     "data": {
      "text/plain": [
       "count    31842.000000\n",
       "mean        10.425444\n",
       "std         23.758901\n",
       "min          0.000000\n",
       "25%          0.000000\n",
       "50%          0.000000\n",
       "75%          9.000000\n",
       "max        160.000000\n",
       "Name: ARR_DELAY_NEW, dtype: float64"
      ]
     },
     "metadata": {},
     "output_type": "display_data"
    },
    {
     "name": "stdout",
     "output_type": "stream",
     "text": [
      "On Time Flight percentage after outliers are removed : 62.72 %\n"
     ]
    },
    {
     "data": {
      "image/png": "[encoded data removed]",
      "text/plain": [
       "<matplotlib.figure.Figure at 0x113d2a110>"
      ]
     },
     "metadata": {},
     "output_type": "display_data"
    }
   ],
   "source": [
    "# Detect outliers\n",
    "y_mean = y.mean()\n",
    "y_std = y.std()\n",
    "outliers = y[y-y_mean >4*y_std]  # For classifier problem, 4 sigma is used\n",
    "print 'Percentage of outliers to be removed: %.1f' % (len(outliers)*100./len(y)),'%'\n",
    "\n",
    "# Remove outliers\n",
    "c_data = data.copy()\n",
    "c_data = data.drop(outliers.index)\n",
    "\n",
    "# Show summary statistics\n",
    "y = c_data['ARR_DELAY_NEW']\n",
    "plt.figure(figsize=(8,4))\n",
    "plt.hist(y,bins =100)\n",
    "plt.title('Arrival Delay Distribution w/o Outliers')\n",
    "plt.xlabel('Delayed (Mins)')\n",
    "plt.ylabel('# of Arrival')\n",
    "print('Summary of ARRIVAL_DELAY statistics: ')\n",
    "display(y.describe())\n",
    "\n",
    "ontime = y[y==0].count()*100./len(y)\n",
    "print 'On Time Flight percentage after outliers are removed : %0.2f' % ontime, '%'\n"
   ]
  },
  {
   "cell_type": "markdown",
   "metadata": {
    "collapsed": false
   },
   "source": [
    "### Show delayed arrival (minutes) by mean  for each category"
   ]
  },
  {
   "cell_type": "code",
   "execution_count": 11,
   "metadata": {
    "collapsed": false
   },
   "outputs": [
    {
     "data": {
      "text/plain": [
       "<matplotlib.axes._subplots.AxesSubplot at 0x11391e390>"
      ]
     },
     "execution_count": 11,
     "metadata": {},
     "output_type": "execute_result"
    },
    {
     "data": {
      "image/png": "[encoded data removed]",
      "text/plain": [
       "<matplotlib.figure.Figure at 0x113996410>"
      ]
     },
     "metadata": {},
     "output_type": "display_data"
    },
    {
     "data": {
      "image/png": "[encoded data removed]",
      "text/plain": [
       "<matplotlib.figure.Figure at 0x115505fd0>"
      ]
     },
     "metadata": {},
     "output_type": "display_data"
    },
    {
     "data": {
      "image/png": "[encoded data removed]",
      "text/plain": [
       "<matplotlib.figure.Figure at 0x1136a72d0>"
      ]
     },
     "metadata": {},
     "output_type": "display_data"
    },
    {
     "data": {
      "image/png": "[encoded data removed]",
      "text/plain": [
       "<matplotlib.figure.Figure at 0x112e72a90>"
      ]
     },
     "metadata": {},
     "output_type": "display_data"
    },
    {
     "data": {
      "image/png": "[encoded data removed]",
      "text/plain": [
       "<matplotlib.figure.Figure at 0x1132e3590>"
      ]
     },
     "metadata": {},
     "output_type": "display_data"
    },
    {
     "data": {
      "image/png": "[encoded data removed]",
      "text/plain": [
       "<matplotlib.figure.Figure at 0x113d97610>"
      ]
     },
     "metadata": {},
     "output_type": "display_data"
    }
   ],
   "source": [
    "delay_carrier = c_data[['ARR_DELAY_NEW','UNIQUE_CARRIER']].groupby('UNIQUE_CARRIER').mean()\n",
    "delay_carrier.plot(kind='bar',figsize =(8,4),title = 'Delay Mean by UNIQUE_CARRIER')\n",
    "\n",
    "delay_day = c_data[['ARR_DELAY_NEW','DAY_OF_WEEK']].groupby('DAY_OF_WEEK').mean()\n",
    "delay_day.plot(kind='bar',figsize =(8,4),title = 'Delay Mean by DAY_OF_WEEK')\n",
    "\n",
    "delay_origin = c_data[['ARR_DELAY_NEW','ORIGIN']].groupby('ORIGIN').mean()\n",
    "delay_origin.plot(kind='bar',figsize =(8,4),title = 'Delay Mean by ORIGIN')\n",
    "\n",
    "delay_dest = c_data[['ARR_DELAY_NEW','DEST']].groupby('DEST').mean()\n",
    "delay_dest.plot(kind='bar',figsize =(8,4),title = 'Delay Mean by DEST')\n",
    "\n",
    "#delay_tail = c_data[['ARR_DELAY_NEW','FL_NUM']].groupby('FL_NUM').mean()\n",
    "#delay_tail.plot(kind='bar',figsize =(8,4),title = 'Delay Mean by FL_NUM')\n",
    "\n",
    "# Bucketze the distantce by 100.\n",
    "c_data.loc[:,'distance'] = [int(i//100) for i in c_data['DISTANCE']]  \n",
    "\n",
    "delay_distance = c_data[['ARR_DELAY_NEW','distance']].groupby('distance').mean()\n",
    "delay_distance.plot(kind='bar',figsize =(8,4),title = 'Delay Mean by DISTANCE')\n",
    "\n",
    "# Bucketize time by hours\n",
    "c_data.loc[:,'dep_time'] = [i//100 for i in c_data['CRS_DEP_TIME']]   \n",
    "delay_dep_time = c_data[['ARR_DELAY_NEW','dep_time']].groupby('dep_time').mean()\n",
    "delay_dep_time.plot(kind='bar',figsize =(8,4),title = 'Delay Mean by CRS_DEP_TIME')\n",
    "\n",
    "\n",
    "#delay_month = c_data[['ARR_DELAY_NEW','MONTH']].groupby('MONTH').mean()\n",
    "#delay_month.plot(kind='bar',figsize =(8,4),title = 'Delay Mean by MONTH') \n"
   ]
  },
  {
   "cell_type": "markdown",
   "metadata": {
    "collapsed": true
   },
   "source": [
    "### Show on-time arrival percentage for each category"
   ]
  },
  {
   "cell_type": "code",
   "execution_count": 15,
   "metadata": {
    "collapsed": false
   },
   "outputs": [
    {
     "data": {
      "text/plain": [
       "<matplotlib.axes._subplots.AxesSubplot at 0x112c641d0>"
      ]
     },
     "execution_count": 15,
     "metadata": {},
     "output_type": "execute_result"
    },
    {
     "data": {
      "image/png": "[encoded data removed]",
      "text/plain": [
       "<matplotlib.figure.Figure at 0x112d40d10>"
      ]
     },
     "metadata": {},
     "output_type": "display_data"
    },
    {
     "data": {
      "image/png": "[encoded data removed]",
      "text/plain": [
       "<matplotlib.figure.Figure at 0x1163e2890>"
      ]
     },
     "metadata": {},
     "output_type": "display_data"
    },
    {
     "data": {
      "image/png": "[encoded data removed]",
      "text/plain": [
       "<matplotlib.figure.Figure at 0x115559810>"
      ]
     },
     "metadata": {},
     "output_type": "display_data"
    },
    {
     "data": {
      "image/png": "[encoded data removed]",
      "text/plain": [
       "<matplotlib.figure.Figure at 0x112b493d0>"
      ]
     },
     "metadata": {},
     "output_type": "display_data"
    },
    {
     "data": {
      "image/png": "[encoded data removed]",
      "text/plain": [
       "<matplotlib.figure.Figure at 0x113d42950>"
      ]
     },
     "metadata": {},
     "output_type": "display_data"
    },
    {
     "data": {
      "image/png": "[encoded data removed]",
      "text/plain": [
       "<matplotlib.figure.Figure at 0x11461db50>"
      ]
     },
     "metadata": {},
     "output_type": "display_data"
    }
   ],
   "source": [
    "on_time = y ==0\n",
    "\n",
    "c_data.loc[:,'on_time'] = on_time\n",
    "\n",
    "delay_carrier = c_data[['on_time','UNIQUE_CARRIER']].groupby('UNIQUE_CARRIER').mean()*100\n",
    "delay_carrier.plot(kind='bar',figsize =(8,4),title = 'On Time Percentage by UNIQUE_CARRIER')\n",
    "\n",
    "delay_day = c_data[['on_time','DAY_OF_WEEK']].groupby('DAY_OF_WEEK').mean()*100\n",
    "delay_day.plot(kind='bar',figsize =(8,4),title = 'On Time Percentage by DAY_OF_WEEK')\n",
    "\n",
    "delay_origin = c_data[['on_time','ORIGIN']].groupby('ORIGIN').mean()*100\n",
    "delay_origin.plot(kind='bar',figsize =(8,4),title = 'On Time Percentage by ORIGIN')\n",
    "\n",
    "delay_dest = c_data[['on_time','DEST']].groupby('DEST').mean()*100\n",
    "delay_dest.plot(kind='bar',figsize =(8,4),title = 'On Time Percentage by DEST')\n",
    "\n",
    "#delay_tail = c_data[['on_time','FL_NUM']].groupby('FL_NUM').mean()\n",
    "#delay_tail.plot(kind='bar',figsize =(8,4),title = 'Delay Mean by FL_NUM')\n",
    "\n",
    "delay_distance = c_data[['on_time','distance']].groupby('distance').mean()*100\n",
    "delay_distance.plot(kind='bar',figsize =(8,4),title = 'On Time Percentage by DISTANCE')\n",
    "\n",
    "# Bucketize time by hours   \n",
    "delay_dep_time = c_data[['on_time','dep_time']].groupby('dep_time').mean()*100\n",
    "delay_dep_time.plot(kind='bar',figsize =(8,4),title = 'On Time Percentage by CRS_DEP_TIME')\n",
    "\n",
    "\n",
    "#delay_month = c_data[['on_time','MONTH']].groupby('MONTH').mean()\n",
    "#delay_month.plot(kind='bar',figsize =(8,4),title = 'Delay Mean by MONTH') \n",
    "\n"
   ]
  },
  {
   "cell_type": "markdown",
   "metadata": {},
   "source": [
    "## Preprocess the data"
   ]
  },
  {
   "cell_type": "markdown",
   "metadata": {},
   "source": [
    "#### Encode categorical data into binary numbers using 'pd.get_dummies'"
   ]
  },
  {
   "cell_type": "code",
   "execution_count": 18,
   "metadata": {
    "collapsed": false
   },
   "outputs": [
    {
     "data": {
      "text/plain": [
       "Index([u'day_c_1', u'day_c_2', u'day_c_3', u'day_c_4', u'day_c_5', u'day_c_6',\n",
       "       u'day_c_7', u'dep_time_c_0', u'dep_time_c_1', u'dep_time_c_10',\n",
       "       u'dep_time_c_11', u'dep_time_c_12', u'dep_time_c_13', u'dep_time_c_14',\n",
       "       u'dep_time_c_15', u'dep_time_c_16', u'dep_time_c_17', u'dep_time_c_18',\n",
       "       u'dep_time_c_19', u'dep_time_c_2', u'dep_time_c_20', u'dep_time_c_21',\n",
       "       u'dep_time_c_22', u'dep_time_c_23', u'dep_time_c_5', u'dep_time_c_6',\n",
       "       u'dep_time_c_7', u'dep_time_c_8', u'dep_time_c_9', u'distance_c_10',\n",
       "       u'distance_c_12', u'distance_c_13', u'distance_c_14', u'distance_c_15',\n",
       "       u'distance_c_17', u'distance_c_18', u'distance_c_19', u'distance_c_2',\n",
       "       u'distance_c_21', u'distance_c_22', u'distance_c_24', u'distance_c_25',\n",
       "       u'distance_c_3', u'distance_c_4', u'distance_c_5', u'distance_c_6',\n",
       "       u'distance_c_7', u'distance_c_8', u'distance_c_9', u'UNIQUE_CARRIER_AA',\n",
       "       u'UNIQUE_CARRIER_B6', u'UNIQUE_CARRIER_DL', u'UNIQUE_CARRIER_EV',\n",
       "       u'UNIQUE_CARRIER_F9', u'UNIQUE_CARRIER_NK', u'UNIQUE_CARRIER_OO',\n",
       "       u'UNIQUE_CARRIER_UA', u'UNIQUE_CARRIER_VX', u'UNIQUE_CARRIER_WN',\n",
       "       u'ORIGIN_ATL', u'ORIGIN_CLT', u'ORIGIN_DFW', u'ORIGIN_JFK',\n",
       "       u'ORIGIN_LAS', u'ORIGIN_LAX', u'ORIGIN_ORD', u'ORIGIN_PHX',\n",
       "       u'ORIGIN_SFO', u'DEST_ATL', u'DEST_CLT', u'DEST_DFW', u'DEST_JFK',\n",
       "       u'DEST_LAS', u'DEST_LAX', u'DEST_ORD', u'DEST_PHX', u'DEST_SFO'],\n",
       "      dtype='object')"
      ]
     },
     "metadata": {},
     "output_type": "display_data"
    },
    {
     "data": {
      "text/html": [
       "<div>\n",
       "<table border=\"1\" class=\"dataframe\">\n",
       "  <thead>\n",
       "    <tr style=\"text-align: right;\">\n",
       "      <th></th>\n",
       "      <th>day_c_1</th>\n",
       "      <th>day_c_2</th>\n",
       "      <th>day_c_3</th>\n",
       "      <th>day_c_4</th>\n",
       "      <th>day_c_5</th>\n",
       "      <th>day_c_6</th>\n",
       "      <th>day_c_7</th>\n",
       "      <th>dep_time_c_0</th>\n",
       "      <th>dep_time_c_1</th>\n",
       "      <th>dep_time_c_10</th>\n",
       "      <th>...</th>\n",
       "      <th>ORIGIN_SFO</th>\n",
       "      <th>DEST_ATL</th>\n",
       "      <th>DEST_CLT</th>\n",
       "      <th>DEST_DFW</th>\n",
       "      <th>DEST_JFK</th>\n",
       "      <th>DEST_LAS</th>\n",
       "      <th>DEST_LAX</th>\n",
       "      <th>DEST_ORD</th>\n",
       "      <th>DEST_PHX</th>\n",
       "      <th>DEST_SFO</th>\n",
       "    </tr>\n",
       "  </thead>\n",
       "  <tbody>\n",
       "    <tr>\n",
       "      <th>153</th>\n",
       "      <td>0.0</td>\n",
       "      <td>0.0</td>\n",
       "      <td>0.0</td>\n",
       "      <td>0.0</td>\n",
       "      <td>1.0</td>\n",
       "      <td>0.0</td>\n",
       "      <td>0.0</td>\n",
       "      <td>0.0</td>\n",
       "      <td>0.0</td>\n",
       "      <td>0.0</td>\n",
       "      <td>...</td>\n",
       "      <td>0.0</td>\n",
       "      <td>0.0</td>\n",
       "      <td>0.0</td>\n",
       "      <td>1.0</td>\n",
       "      <td>0.0</td>\n",
       "      <td>0.0</td>\n",
       "      <td>0.0</td>\n",
       "      <td>0.0</td>\n",
       "      <td>0.0</td>\n",
       "      <td>0.0</td>\n",
       "    </tr>\n",
       "    <tr>\n",
       "      <th>154</th>\n",
       "      <td>0.0</td>\n",
       "      <td>0.0</td>\n",
       "      <td>0.0</td>\n",
       "      <td>0.0</td>\n",
       "      <td>0.0</td>\n",
       "      <td>1.0</td>\n",
       "      <td>0.0</td>\n",
       "      <td>0.0</td>\n",
       "      <td>0.0</td>\n",
       "      <td>0.0</td>\n",
       "      <td>...</td>\n",
       "      <td>0.0</td>\n",
       "      <td>0.0</td>\n",
       "      <td>0.0</td>\n",
       "      <td>1.0</td>\n",
       "      <td>0.0</td>\n",
       "      <td>0.0</td>\n",
       "      <td>0.0</td>\n",
       "      <td>0.0</td>\n",
       "      <td>0.0</td>\n",
       "      <td>0.0</td>\n",
       "    </tr>\n",
       "    <tr>\n",
       "      <th>155</th>\n",
       "      <td>0.0</td>\n",
       "      <td>0.0</td>\n",
       "      <td>0.0</td>\n",
       "      <td>0.0</td>\n",
       "      <td>0.0</td>\n",
       "      <td>0.0</td>\n",
       "      <td>1.0</td>\n",
       "      <td>0.0</td>\n",
       "      <td>0.0</td>\n",
       "      <td>0.0</td>\n",
       "      <td>...</td>\n",
       "      <td>0.0</td>\n",
       "      <td>0.0</td>\n",
       "      <td>0.0</td>\n",
       "      <td>1.0</td>\n",
       "      <td>0.0</td>\n",
       "      <td>0.0</td>\n",
       "      <td>0.0</td>\n",
       "      <td>0.0</td>\n",
       "      <td>0.0</td>\n",
       "      <td>0.0</td>\n",
       "    </tr>\n",
       "    <tr>\n",
       "      <th>156</th>\n",
       "      <td>1.0</td>\n",
       "      <td>0.0</td>\n",
       "      <td>0.0</td>\n",
       "      <td>0.0</td>\n",
       "      <td>0.0</td>\n",
       "      <td>0.0</td>\n",
       "      <td>0.0</td>\n",
       "      <td>0.0</td>\n",
       "      <td>0.0</td>\n",
       "      <td>0.0</td>\n",
       "      <td>...</td>\n",
       "      <td>0.0</td>\n",
       "      <td>0.0</td>\n",
       "      <td>0.0</td>\n",
       "      <td>1.0</td>\n",
       "      <td>0.0</td>\n",
       "      <td>0.0</td>\n",
       "      <td>0.0</td>\n",
       "      <td>0.0</td>\n",
       "      <td>0.0</td>\n",
       "      <td>0.0</td>\n",
       "    </tr>\n",
       "    <tr>\n",
       "      <th>158</th>\n",
       "      <td>0.0</td>\n",
       "      <td>0.0</td>\n",
       "      <td>1.0</td>\n",
       "      <td>0.0</td>\n",
       "      <td>0.0</td>\n",
       "      <td>0.0</td>\n",
       "      <td>0.0</td>\n",
       "      <td>0.0</td>\n",
       "      <td>0.0</td>\n",
       "      <td>0.0</td>\n",
       "      <td>...</td>\n",
       "      <td>0.0</td>\n",
       "      <td>0.0</td>\n",
       "      <td>0.0</td>\n",
       "      <td>1.0</td>\n",
       "      <td>0.0</td>\n",
       "      <td>0.0</td>\n",
       "      <td>0.0</td>\n",
       "      <td>0.0</td>\n",
       "      <td>0.0</td>\n",
       "      <td>0.0</td>\n",
       "    </tr>\n",
       "  </tbody>\n",
       "</table>\n",
       "<p>5 rows × 77 columns</p>\n",
       "</div>"
      ],
      "text/plain": [
       "     day_c_1  day_c_2  day_c_3  day_c_4  day_c_5  day_c_6  day_c_7  \\\n",
       "153      0.0      0.0      0.0      0.0      1.0      0.0      0.0   \n",
       "154      0.0      0.0      0.0      0.0      0.0      1.0      0.0   \n",
       "155      0.0      0.0      0.0      0.0      0.0      0.0      1.0   \n",
       "156      1.0      0.0      0.0      0.0      0.0      0.0      0.0   \n",
       "158      0.0      0.0      1.0      0.0      0.0      0.0      0.0   \n",
       "\n",
       "     dep_time_c_0  dep_time_c_1  dep_time_c_10    ...     ORIGIN_SFO  \\\n",
       "153           0.0           0.0            0.0    ...            0.0   \n",
       "154           0.0           0.0            0.0    ...            0.0   \n",
       "155           0.0           0.0            0.0    ...            0.0   \n",
       "156           0.0           0.0            0.0    ...            0.0   \n",
       "158           0.0           0.0            0.0    ...            0.0   \n",
       "\n",
       "     DEST_ATL  DEST_CLT  DEST_DFW  DEST_JFK  DEST_LAS  DEST_LAX  DEST_ORD  \\\n",
       "153       0.0       0.0       1.0       0.0       0.0       0.0       0.0   \n",
       "154       0.0       0.0       1.0       0.0       0.0       0.0       0.0   \n",
       "155       0.0       0.0       1.0       0.0       0.0       0.0       0.0   \n",
       "156       0.0       0.0       1.0       0.0       0.0       0.0       0.0   \n",
       "158       0.0       0.0       1.0       0.0       0.0       0.0       0.0   \n",
       "\n",
       "     DEST_PHX  DEST_SFO  \n",
       "153       0.0       0.0  \n",
       "154       0.0       0.0  \n",
       "155       0.0       0.0  \n",
       "156       0.0       0.0  \n",
       "158       0.0       0.0  \n",
       "\n",
       "[5 rows x 77 columns]"
      ]
     },
     "metadata": {},
     "output_type": "display_data"
    }
   ],
   "source": [
    "# Convert numerical categorical data to strings\n",
    "c_data.loc[:,'distance_c'] = [str(i) for i in c_data['distance']] \n",
    "c_data.loc[:,'dep_time_c'] = [str(i) for i in c_data['dep_time']] \n",
    "c_data.loc[:,'day_c'] = [str(i) for i in c_data['DAY_OF_WEEK']] \n",
    "\n",
    "cat_cols = ['day_c','dep_time_c','distance_c','UNIQUE_CARRIER','ORIGIN','DEST']\n",
    "r_data = pd.get_dummies(c_data[cat_cols])\n",
    "y = c_data['on_time']\n",
    "X = r_data\n",
    "display(r_data.columns)\n",
    "display( r_data.head())"
   ]
  },
  {
   "cell_type": "markdown",
   "metadata": {},
   "source": [
    "### Scale Data  \n",
    "#### Not neccessary for this applicaton since all features are OneHotEncoded - all feature values are 0 or 1.\n",
    "\n"
   ]
  },
  {
   "cell_type": "markdown",
   "metadata": {},
   "source": [
    "## Randomly split the data into test and train set"
   ]
  },
  {
   "cell_type": "code",
   "execution_count": 38,
   "metadata": {
    "collapsed": false
   },
   "outputs": [
    {
     "name": "stdout",
     "output_type": "stream",
     "text": [
      "Blanced data set(# of True/ of Total): 0.625\n"
     ]
    },
    {
     "data": {
      "text/plain": [
       "((22289, 77), (9553, 77), (22289,), (9553,))"
      ]
     },
     "execution_count": 38,
     "metadata": {},
     "output_type": "execute_result"
    }
   ],
   "source": [
    "from sklearn.cross_validation import train_test_split\n",
    "X_train,X_test,y_train,y_test = train_test_split(X,y,test_size =0.3,random_state =0)\n",
    "\n",
    "print 'Blanced data set(# of True/ of Total): %.3f' % (float(y_train.sum())/len(y_train))\n",
    "X_train.shape, X_test.shape, y_train.shape, y_test.shape"
   ]
  },
  {
   "cell_type": "markdown",
   "metadata": {},
   "source": [
    "### Reduce the dimensionality of the features.\n",
    "Applied PCA to identify the dominant features (= princial axes)"
   ]
  },
  {
   "cell_type": "code",
   "execution_count": 21,
   "metadata": {
    "collapsed": false
   },
   "outputs": [
    {
     "name": "stdout",
     "output_type": "stream",
     "text": [
      "[  6.74430792e-02   4.50283480e-02   4.11211854e-02   3.80087401e-02\n",
      "   3.63586777e-02   3.06816169e-02   2.94637288e-02   2.89607937e-02\n",
      "   2.82077685e-02   2.64519119e-02   2.59501823e-02   2.57811142e-02\n",
      "   2.55323595e-02   2.51129692e-02   2.47530249e-02   2.38750681e-02\n",
      "   2.27323391e-02   2.16653147e-02   2.06779462e-02   2.01598808e-02\n",
      "   1.62263994e-02   1.58285551e-02   1.45659759e-02   1.42499934e-02\n",
      "   1.39848313e-02   1.36278564e-02   1.32030288e-02   1.29441054e-02\n",
      "   1.23530195e-02   1.22228504e-02   1.21226461e-02   1.19562181e-02\n",
      "   1.17298883e-02   1.15025563e-02   1.13175032e-02   1.12090417e-02\n",
      "   1.05137966e-02   1.02490996e-02   1.01387665e-02   9.83427547e-03\n",
      "   9.73375104e-03   9.57307792e-03   9.24450356e-03   8.76791972e-03\n",
      "   8.35671084e-03   8.01777966e-03   7.37453073e-03   6.80005536e-03\n",
      "   6.64407024e-03   6.48672942e-03   6.23663451e-03   5.99704649e-03\n",
      "   5.77737357e-03   5.56509782e-03   5.24753598e-03   4.91278002e-03\n",
      "   4.21924030e-03   3.26475337e-03   3.19263542e-03   2.93006781e-03\n",
      "   2.87432708e-03   2.35801797e-03   2.22538973e-03   1.73720023e-03\n",
      "   1.35991948e-03   9.95856260e-04   8.84695353e-04   7.72314555e-04\n",
      "   3.63982990e-04   3.12942643e-04   2.66034950e-05   4.21626422e-29\n",
      "   1.38380506e-30   4.85300950e-32   3.66086287e-32   2.95063648e-32\n",
      "   1.72188596e-32]\n"
     ]
    },
    {
     "data": {
      "image/png": "[encoded data removed]",
      "text/plain": [
       "<matplotlib.figure.Figure at 0x11acb3310>"
      ]
     },
     "metadata": {},
     "output_type": "display_data"
    }
   ],
   "source": [
    "from sklearn.decomposition import PCA\n",
    "pca = PCA()\n",
    "pca.fit(X_train)\n",
    "plt.plot(pca.explained_variance_ratio_*100)\n",
    "plt.title('pca.explained_variance_ratio_')\n",
    "plt.xlabel('n_components')\n",
    "plt.ylabel('variance_ratio')\n",
    "print pca.explained_variance_ratio_"
   ]
  },
  {
   "cell_type": "markdown",
   "metadata": {},
   "source": [
    "### ==> Select first 20 features by inspecting pca.explained_variance "
   ]
  },
  {
   "cell_type": "markdown",
   "metadata": {
    "collapsed": false
   },
   "source": [
    "#Not Applied no impact on the overall performance  in this application\n",
    "#Apply PCA to X_train and X_test\n",
    "pca60 = PCA(n_components = 20)\n",
    "pca60.fit(X_train)\n",
    "X_train_pca = pca60.transform(X_train)\n",
    "X_test_pca = pca60.transform(X_test)   # pca60 is fitted by X_train, not X_test\n",
    "X_train = X_train_pca\n",
    "X_test = X_test_pca\n",
    "print X_train"
   ]
  },
  {
   "cell_type": "markdown",
   "metadata": {},
   "source": [
    "## Try out a few classifier algorithms on training set"
   ]
  },
  {
   "cell_type": "code",
   "execution_count": 65,
   "metadata": {
    "collapsed": false
   },
   "outputs": [],
   "source": [
    "# Display classifier performance score\n",
    "from sklearn.metrics import accuracy_score,f1_score, precision_score, recall_score,roc_auc_score\n",
    "\n",
    "def display_scores(y_test,y_pred):\n",
    "    print '# of Data:',len(y_test) \n",
    "    print 'Accuracy: %.3f' %  accuracy_score(y_test,y_pred)\n",
    "    print 'Precision: %.3f' %  precision_score(y_test,y_pred)\n",
    "    print 'Recall: %.3f' %  recall_score(y_test,y_pred)\n",
    "    print 'F1 Score: %.3f' %  f1_score(y_test,y_pred)\n",
    "    print 'ROC AUC: %.3f' %  roc_auc_score(y_test,y_pred)\n",
    "    print\n",
    "\n",
    "# K-fold cross-validate\n",
    "from sklearn.cross_validation import cross_val_score\n",
    "\n",
    "def cross_validate(estimator,X_train,y_train):\n",
    "    scores = cross_val_score(estimator=estimator,X=X_train,y=y_train,cv=5,n_jobs=-1)\n",
    "    print ('CV accuracy_scores: %s' % scores)\n",
    "    print ('CV accuracy: %.3f +/- %.3f' % (np.mean(scores),np.std(scores)))\n",
    "    print\n",
    "\n",
    "from sklearn.metrics import roc_curve, auc\n",
    "def plot_roc_curve(y_test,y_pred): \n",
    "    fpr,tpr,thresholds = roc_curve(y_test, y_pred)\n",
    "    roc_auc = auc(fpr,tpr)\n",
    "    plt.plot(fpr,tpr , color='darkorange', label='ROC curve (area = %0.2f)' % roc_auc)\n",
    "    plt.xlabel('False Positive Rate')\n",
    "    Plt.ylabel('True Postive Rate')\n",
    "    plt.show()\n",
    "\n",
    "from sklearn.metrics import confusion_matrix\n",
    "def show_confusion_matrix(y_test,y_pred):\n",
    "    confmat = confusion_matrix(y_test,y_pred)\n",
    "    fig,ax = plt.subplots(figsize =(4,4))\n",
    "    ax.matshow(confmat, cmap=plt.cm.Blues, alpha=0.3)\n",
    "    for i in range(confmat.shape[0]):\n",
    "        for j in range(confmat.shape[1]):\n",
    "            ax.text(x=j,y=i, s=confmat[i,j], va='center',ha='center')\n",
    "    plt.xlabel('predicted label')\n",
    "    plt.ylabel('true label')\n",
    "    plt.show()"
   ]
  },
  {
   "cell_type": "markdown",
   "metadata": {},
   "source": [
    "### Decison Tree Classifier"
   ]
  },
  {
   "cell_type": "code",
   "execution_count": 61,
   "metadata": {
    "collapsed": false
   },
   "outputs": [
    {
     "data": {
      "image/png": "[encoded data removed]",
      "text/plain": [
       "<matplotlib.figure.Figure at 0x118741490>"
      ]
     },
     "metadata": {},
     "output_type": "display_data"
    },
    {
     "name": "stdout",
     "output_type": "stream",
     "text": [
      "# of Data: 22289\n",
      "Accuracy: 0.795\n",
      "Precision: 0.861\n",
      "Recall: 0.801\n",
      "F1 Score: 0.830\n",
      "ROC AUC: 0.793\n",
      "\n",
      "CV accuracy_scores: [ 0.58914555  0.58703454  0.57357559  0.57819161  0.57819161]\n",
      "CV accuracy: 0.581 +/- 0.006\n",
      "\n"
     ]
    }
   ],
   "source": [
    "from sklearn.metrics import accuracy_score,f1_score, precision_score, recall_score\n",
    "from sklearn.tree import DecisionTreeClassifier\n",
    "dtc = DecisionTreeClassifier(random_state =0)\n",
    "dtc.fit(X_train,y_train)\n",
    "y_pred = dtc.predict(X_train)\n",
    "\n",
    "show_confusion_matrix(y_train,y_pred)\n",
    "display_scores(y_train,y_pred)\n",
    "cross_validate(dtc,X_train,y_train)"
   ]
  },
  {
   "cell_type": "markdown",
   "metadata": {},
   "source": [
    "### Random Forest Classifier"
   ]
  },
  {
   "cell_type": "code",
   "execution_count": 54,
   "metadata": {
    "collapsed": false
   },
   "outputs": [
    {
     "data": {
      "image/png": "[encoded data removed]",
      "text/plain": [
       "<matplotlib.figure.Figure at 0x103c49fd0>"
      ]
     },
     "metadata": {},
     "output_type": "display_data"
    },
    {
     "name": "stdout",
     "output_type": "stream",
     "text": [
      "# of Data: 22289\n",
      "Accuracy: 0.788\n",
      "Precision: 0.813\n",
      "Recall: 0.859\n",
      "F1 Score: 0.835\n",
      "ROC AUC: 0.765\n",
      "\n",
      "CV accuracy_scores: [ 0.61471182  0.60969044  0.60655002  0.6113978   0.61364146]\n",
      "CV accuracy: 0.611 +/- 0.003\n",
      "\n"
     ]
    }
   ],
   "source": [
    "from sklearn.ensemble import RandomForestClassifier\n",
    "rfc = RandomForestClassifier(random_state = 0)\n",
    "rfc.fit(X_train,y_train)\n",
    "y_pred = rfc.predict(X_train)\n",
    "\n",
    "show_confusion_matrix(y_train,y_pred)\n",
    "display_scores(y_train,y_pred)\n",
    "cross_validate(rfc,X_train,y_train)"
   ]
  },
  {
   "cell_type": "markdown",
   "metadata": {},
   "source": [
    "### Logistic Regression Classifier"
   ]
  },
  {
   "cell_type": "code",
   "execution_count": 55,
   "metadata": {
    "collapsed": false
   },
   "outputs": [
    {
     "data": {
      "image/png": "[encoded data removed]",
      "text/plain": [
       "<matplotlib.figure.Figure at 0x118741390>"
      ]
     },
     "metadata": {},
     "output_type": "display_data"
    },
    {
     "name": "stdout",
     "output_type": "stream",
     "text": [
      "# of Data: 22289\n",
      "Accuracy: 0.655\n",
      "Precision: 0.674\n",
      "Recall: 0.871\n",
      "F1 Score: 0.760\n",
      "ROC AUC: 0.583\n",
      "\n",
      "CV accuracy_scores: [ 0.64992151  0.65051593  0.65769403  0.64954005  0.65761723]\n",
      "CV accuracy: 0.653 +/- 0.004\n",
      "\n"
     ]
    }
   ],
   "source": [
    "from sklearn.linear_model import LogisticRegression\n",
    "lgr = LogisticRegression(random_state =0)\n",
    "lgr.fit(X_train,y_train)\n",
    "y_pred = lgr.predict(X_train)\n",
    "\n",
    "show_confusion_matrix(y_train,y_pred)\n",
    "display_scores(y_train,y_pred)\n",
    "cross_validate(lgr,X_train,y_train)"
   ]
  },
  {
   "cell_type": "markdown",
   "metadata": {},
   "source": [
    "### Support Vector Machine Classifier"
   ]
  },
  {
   "cell_type": "code",
   "execution_count": 66,
   "metadata": {
    "collapsed": false
   },
   "outputs": [
    {
     "data": {
      "image/png": "[encoded data removed]",
      "text/plain": [
       "<matplotlib.figure.Figure at 0x1133182d0>"
      ]
     },
     "metadata": {},
     "output_type": "display_data"
    },
    {
     "name": "stdout",
     "output_type": "stream",
     "text": [
      "# of Data: 22289\n",
      "Accuracy: 0.642\n",
      "Precision: 0.641\n",
      "Recall: 0.973\n",
      "F1 Score: 0.773\n",
      "ROC AUC: 0.532\n",
      "\n",
      "CV accuracy_scores: [ 0.62031846  0.63615971  0.62539255  0.62553287  0.62979583]\n",
      "CV accuracy: 0.627 +/- 0.005\n",
      "\n"
     ]
    }
   ],
   "source": [
    "from sklearn.svm import SVC\n",
    "\n",
    "svc = SVC(random_state = 0)\n",
    "svc.fit(X_train,y_train)\n",
    "y_pred = svc.predict(X_train)\n",
    "\n",
    "show_confusion_matrix(y_train,y_pred)\n",
    "display_scores(y_train,y_pred)\n",
    "cross_validate(svc,X_train,y_train)"
   ]
  },
  {
   "cell_type": "markdown",
   "metadata": {},
   "source": [
    "### GaussianNB "
   ]
  },
  {
   "cell_type": "code",
   "execution_count": 56,
   "metadata": {
    "collapsed": false,
    "scrolled": true
   },
   "outputs": [
    {
     "data": {
      "image/png": "[encoded data removed]",
      "text/plain": [
       "<matplotlib.figure.Figure at 0x113d950d0>"
      ]
     },
     "metadata": {},
     "output_type": "display_data"
    },
    {
     "name": "stdout",
     "output_type": "stream",
     "text": [
      "# of Data: 22289\n",
      "Accuracy: 0.619\n",
      "Precision: 0.713\n",
      "Recall: 0.654\n",
      "F1 Score: 0.683\n",
      "ROC AUC: 0.608\n",
      "\n",
      "CV accuracy_scores: [ 0.60955371  0.62113055  0.63817856  0.60264752  0.62284048]\n",
      "CV accuracy: 0.619 +/- 0.012\n",
      "\n"
     ]
    }
   ],
   "source": [
    "from sklearn.naive_bayes import GaussianNB\n",
    "gnb = GaussianNB()\n",
    "gnb.fit(X_train,y_train)\n",
    "y_pred = gnb.predict(X_train)\n",
    "\n",
    "show_confusion_matrix(y_train,y_pred)\n",
    "display_scores(y_train,y_pred)\n",
    "cross_validate(gnb,X_train,y_train)\n"
   ]
  },
  {
   "cell_type": "markdown",
   "metadata": {},
   "source": [
    "## Summary of Classfiers Cross Validation without fine tunning: "
   ]
  },
  {
   "cell_type": "code",
   "execution_count": 67,
   "metadata": {
    "collapsed": false
   },
   "outputs": [
    {
     "name": "stdout",
     "output_type": "stream",
     "text": [
      "CV accuracy_scores: [ 0.58914555  0.58703454  0.57357559  0.57819161  0.57819161]\n",
      "CV accuracy: 0.581 +/- 0.006\n",
      "\n",
      "CV accuracy_scores: [ 0.61471182  0.60969044  0.60655002  0.6113978   0.61364146]\n",
      "CV accuracy: 0.611 +/- 0.003\n",
      "\n",
      "CV accuracy_scores: [ 0.64992151  0.65051593  0.65769403  0.64954005  0.65761723]\n",
      "CV accuracy: 0.653 +/- 0.004\n",
      "\n",
      "CV accuracy_scores: [ 0.62031846  0.63615971  0.62539255  0.62553287  0.62979583]\n",
      "CV accuracy: 0.627 +/- 0.005\n",
      "\n",
      "CV accuracy_scores: [ 0.60955371  0.62113055  0.63817856  0.60264752  0.62284048]\n",
      "CV accuracy: 0.619 +/- 0.012\n",
      "\n"
     ]
    }
   ],
   "source": [
    "print('Decision Tree:')\n",
    "cross_validate(dtc,X_train,y_train)\n",
    "print('Random Forest:')\n",
    "cross_validate(rfc,X_train,y_train)\n",
    "print('Logistic Regression:')\n",
    "cross_validate(lgr,X_train,y_train)\n",
    "print('Support Vector Machine:')\n",
    "cross_validate(svc,X_train,y_train)\n",
    "print('Gaussian NB:')\n",
    "cross_validate(gnb,X_train,y_train)\n"
   ]
  },
  {
   "cell_type": "markdown",
   "metadata": {},
   "source": [
    "###  => Logistics Regression and RamdomForest are selected based on the cross validation score and computation speed."
   ]
  },
  {
   "cell_type": "markdown",
   "metadata": {},
   "source": [
    "## Fine tuning the selected classifiers with GridSearchCV"
   ]
  },
  {
   "cell_type": "code",
   "execution_count": 70,
   "metadata": {
    "collapsed": false,
    "scrolled": true
   },
   "outputs": [
    {
     "name": "stdout",
     "output_type": "stream",
     "text": [
      "0.628022791512\n",
      "{'max_features': None, 'n_estimators': 500}\n"
     ]
    }
   ],
   "source": [
    "from sklearn.grid_search import GridSearchCV\n",
    "\n",
    "rfc = RandomForestClassifier(random_state = 0)\n",
    "parameters = {'max_features':('auto','log2',None), 'n_estimators':[10,20,50,100,200,400,500]}\n",
    "rfc_gs = GridSearchCV(rfc,parameters,scoring='accuracy',n_jobs =-1,cv=5)\n",
    "rfc_gs.fit(X_train,y_train)\n",
    "print(rfc_gs.best_score_)\n",
    "print(rfc_gs.best_params_)\n"
   ]
  },
  {
   "cell_type": "code",
   "execution_count": 63,
   "metadata": {
    "collapsed": false
   },
   "outputs": [
    {
     "name": "stdout",
     "output_type": "stream",
     "text": [
      "0.653506213827\n",
      "{'penalty': 'l2', 'C': 10}\n"
     ]
    }
   ],
   "source": [
    "from sklearn.grid_search import GridSearchCV\n",
    "\n",
    "lgr = LogisticRegression(random_state =0)\n",
    "parameters = {'penalty':('l1','l2'), 'C':[0.001, 0.01, 0.1, 1, 10, 100, 1000] }\n",
    "lgr_gs = GridSearchCV(lgr,parameters,scoring='accuracy',n_jobs =-1,cv=5)\n",
    "lgr_gs.fit(X_train,y_train)\n",
    "print(lgr_gs.best_score_)\n",
    "print(lgr_gs.best_params_)"
   ]
  },
  {
   "cell_type": "markdown",
   "metadata": {
    "collapsed": true
   },
   "source": [
    "## Demonstrate the classifier performance on the test data (= unseen data)"
   ]
  },
  {
   "cell_type": "markdown",
   "metadata": {},
   "source": [
    "### Test accuracy-optimal Random Forest Classifier"
   ]
  },
  {
   "cell_type": "code",
   "execution_count": 71,
   "metadata": {
    "collapsed": false
   },
   "outputs": [
    {
     "data": {
      "image/png": "[encoded data removed]",
      "text/plain": [
       "<matplotlib.figure.Figure at 0x103efb850>"
      ]
     },
     "metadata": {},
     "output_type": "display_data"
    },
    {
     "name": "stdout",
     "output_type": "stream",
     "text": [
      "# of Data: 9553\n",
      "Accuracy: 0.872\n",
      "Precision: 0.874\n",
      "Recall: 0.931\n",
      "F1 Score: 0.902\n",
      "ROC AUC: 0.851\n",
      "\n"
     ]
    }
   ],
   "source": [
    "rfc_opt = RandomForestClassifier(max_features = rfc_gs.best_params_['max_features'],n_estimators = rfc_gs.best_params_['n_estimators'],random_state =0)\n",
    "rfc_opt.fit(X_test,y_test)\n",
    "y_pred = rfc_opt.predict(X_test)\n",
    "\n",
    "show_confusion_matrix(y_test,y_pred)\n",
    "display_scores(y_test,y_pred)"
   ]
  },
  {
   "cell_type": "markdown",
   "metadata": {},
   "source": [
    "### Test accuracy-optimal Logistic Regressio Classifier"
   ]
  },
  {
   "cell_type": "code",
   "execution_count": 64,
   "metadata": {
    "collapsed": false
   },
   "outputs": [
    {
     "data": {
      "image/png": "[encoded data removed]",
      "text/plain": [
       "<matplotlib.figure.Figure at 0x113a56190>"
      ]
     },
     "metadata": {},
     "output_type": "display_data"
    },
    {
     "name": "stdout",
     "output_type": "stream",
     "text": [
      "# of Data: 9553\n",
      "Accuracy: 0.660\n",
      "Precision: 0.678\n",
      "Recall: 0.880\n",
      "F1 Score: 0.766\n",
      "ROC AUC: 0.582\n",
      "\n"
     ]
    }
   ],
   "source": [
    "lgr_opt = LogisticRegression(penalty = lgr_gs.best_params_['penalty'],C = lgr_gs.best_params_['C'],random_state =0)\n",
    "lgr_opt.fit(X_test,y_test)\n",
    "y_pred = lgr_opt.predict(X_test)\n",
    "\n",
    "show_confusion_matrix(y_test,y_pred)\n",
    "display_scores(y_test,y_pred)"
   ]
  },
  {
   "cell_type": "code",
   "execution_count": null,
   "metadata": {
    "collapsed": true
   },
   "outputs": [],
   "source": []
  },
  {
   "cell_type": "code",
   "execution_count": null,
   "metadata": {
    "collapsed": true
   },
   "outputs": [],
   "source": []
  }
 ],
 "metadata": {
  "anaconda-cloud": {},
  "kernelspec": {
   "display_name": "Python [Root]",
   "language": "python",
   "name": "Python [Root]"
  },
  "language_info": {
   "codemirror_mode": {
    "name": "ipython",
    "version": 2
   },
   "file_extension": ".py",
   "mimetype": "text/x-python",
   "name": "python",
   "nbconvert_exporter": "python",
   "pygments_lexer": "ipython2",
   "version": "2.7.12"
  }
 },
 "nbformat": 4,
 "nbformat_minor": 0
}
