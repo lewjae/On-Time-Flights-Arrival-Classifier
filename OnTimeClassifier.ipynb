{
 "cells": [
  {
   "cell_type": "markdown",
   "metadata": {},
   "source": [
    "## Import Data\n",
    "Predict the airline on-time performance based the data from Bureau of Transportation Statics\n",
    "http://transtats.bts.gov/Tables.asp?DB_ID=120&DB_Name=Airline%20On-Time%20Performance%20Data&DB_Short_Name=On-Time"
   ]
  },
  {
   "cell_type": "code",
   "execution_count": 1,
   "metadata": {
    "collapsed": false
   },
   "outputs": [
    {
     "name": "stdout",
     "output_type": "stream",
     "text": [
      "300123874_T_ONTIME1.csv  300123874_T_ONTIME4.csv  300123874_T_ONTIME8.csv\r\n",
      "300123874_T_ONTIME10.csv 300123874_T_ONTIME5.csv  300123874_T_ONTIME9.csv\r\n",
      "300123874_T_ONTIME2.csv  300123874_T_ONTIME6.csv\r\n",
      "300123874_T_ONTIME3.csv  300123874_T_ONTIME7.csv\r\n"
     ]
    }
   ],
   "source": [
    "!ls ./bts_data  #Check all data available"
   ]
  },
  {
   "cell_type": "code",
   "execution_count": 2,
   "metadata": {
    "collapsed": false
   },
   "outputs": [
    {
     "name": "stdout",
     "output_type": "stream",
     "text": [
      "2016 Jan data (1 month)\n",
      "Data Size: (445827, 10)\n"
     ]
    }
   ],
   "source": [
    "%matplotlib inline \n",
    "import numpy as np\n",
    "import pandas as pd\n",
    "import pickle\n",
    "import matplotlib.pyplot as plt\n",
    "from IPython.display import display # Allows the use of display() for DataFrames\n",
    "\n",
    "# Asemble 2016 on time flight data by combining monthly BTS reports or read only one month data for speed.\n",
    "one_year = False    \n",
    "\n",
    "if one_year : \n",
    "    import glob\n",
    "    all_data = pd.DataFrame()\n",
    "    for f in glob.glob(\"./bts_data/*.csv\"):\n",
    "        df = pd.read_csv(f)\n",
    "        all_data = all_data.append(df,ignore_index=True)\n",
    "    data = all_data[['MONTH','DAY_OF_WEEK','UNIQUE_CARRIER','FL_NUM', 'TAIL_NUM','ORIGIN','DEST','CRS_DEP_TIME','DISTANCE','ARR_DELAY_NEW']]\n",
    "    print \"2016 Jan - Oct data (10 months)\"\n",
    "    print \"Data Size:\", data.shape\n",
    "else:   # Or\n",
    "    data_file = './86361664_T_ONTIME.csv'\n",
    "    all_data = pd.read_csv(data_file)\n",
    "    data = all_data[['MONTH','DAY_OF_WEEK','UNIQUE_CARRIER','FL_NUM', 'TAIL_NUM','ORIGIN','DEST','CRS_DEP_TIME','DISTANCE','ARR_DELAY_NEW']]\n",
    "    print \"2016 Jan data (1 month)\"\n",
    "    print \"Data Size:\", data.shape"
   ]
  },
  {
   "cell_type": "markdown",
   "metadata": {},
   "source": [
    "## Explore Data"
   ]
  },
  {
   "cell_type": "code",
   "execution_count": 3,
   "metadata": {
    "collapsed": false
   },
   "outputs": [
    {
     "name": "stdout",
     "output_type": "stream",
     "text": [
      "Data Size after removing NAN: (433298, 10)\n"
     ]
    }
   ],
   "source": [
    "# Remove \"NAN\"\n",
    "data = data.dropna(axis=0)\n",
    "print \"Data Size after removing NAN:\", data.shape"
   ]
  },
  {
   "cell_type": "code",
   "execution_count": 4,
   "metadata": {
    "collapsed": false
   },
   "outputs": [
    {
     "name": "stdout",
     "output_type": "stream",
     "text": [
      "Data Size with top 10 airports only:  (32187, 10)\n"
     ]
    }
   ],
   "source": [
    "# Consider only top 10 busniess airports for simplicity and sufficient data.\n",
    "busy_airports = ['ATL','LAX','ORD','DFW','JFK','DFN','SFO','CLT','LAS','PHX']  # Top 10 busiest aiports\n",
    "data = data.loc[data['ORIGIN'].isin(busy_airports) & data['DEST'].isin(busy_airports)]  # Select the air traffic between top 10 airports\n",
    "print \"Data Size with top 10 airports only: \", data.shape"
   ]
  },
  {
   "cell_type": "code",
   "execution_count": 5,
   "metadata": {
    "collapsed": false,
    "scrolled": false
   },
   "outputs": [
    {
     "name": "stdout",
     "output_type": "stream",
     "text": [
      "Summary of ARRIVAL_DELAY statistics: \n"
     ]
    },
    {
     "data": {
      "text/plain": [
       "count    32187.000000\n",
       "mean        12.965514\n",
       "std         36.955196\n",
       "min          0.000000\n",
       "25%          0.000000\n",
       "50%          0.000000\n",
       "75%          9.000000\n",
       "max       1316.000000\n",
       "Name: ARR_DELAY_NEW, dtype: float64"
      ]
     },
     "metadata": {},
     "output_type": "display_data"
    },
    {
     "name": "stdout",
     "output_type": "stream",
     "text": [
      "On Time Flight percentage : 62.05 %\n"
     ]
    },
    {
     "data": {
      "image/png": "[encoded data removed]",
      "text/plain": [
       "<matplotlib.figure.Figure at 0x118e2dc90>"
      ]
     },
     "metadata": {},
     "output_type": "display_data"
    }
   ],
   "source": [
    "# Show summary of ARRIVAL_DELAY statistics\n",
    "y = data['ARR_DELAY_NEW']\n",
    "plt.figure(figsize=(8,4))\n",
    "plt.hist(y,bins =100)\n",
    "plt.title('Arrival Delay Distribution')\n",
    "plt.xlabel('Delayed (Mins)')\n",
    "plt.ylabel('# of Arrival')\n",
    "print('Summary of ARRIVAL_DELAY statistics: ')\n",
    "display(y.describe())\n",
    "\n",
    "\n",
    "ontime = y[y==0].count()*100./len(y)\n",
    "print 'On Time Flight percentage : %0.2f' % ontime, '%'"
   ]
  },
  {
   "cell_type": "markdown",
   "metadata": {},
   "source": [
    "### Remove Outliners"
   ]
  },
  {
   "cell_type": "code",
   "execution_count": 7,
   "metadata": {
    "collapsed": false,
    "scrolled": true
   },
   "outputs": [
    {
     "name": "stdout",
     "output_type": "stream",
     "text": [
      "Percentage of outliers to be removed: 1.6 %\n",
      "Summary of ARRIVAL_DELAY statistics: \n"
     ]
    },
    {
     "data": {
      "text/plain": [
       "count    31680.000000\n",
       "mean        11.101010\n",
       "std         34.105398\n",
       "min          0.000000\n",
       "25%          0.000000\n",
       "50%          0.000000\n",
       "75%          8.000000\n",
       "max       1316.000000\n",
       "Name: ARR_DELAY_NEW, dtype: float64"
      ]
     },
     "metadata": {},
     "output_type": "display_data"
    },
    {
     "name": "stdout",
     "output_type": "stream",
     "text": [
      "On Time Flight percentage after outliers are removed : 63.04 %\n"
     ]
    },
    {
     "data": {
      "image/png": "[encoded data removed]",
      "text/plain": [
       "<matplotlib.figure.Figure at 0x103f5a090>"
      ]
     },
     "metadata": {},
     "output_type": "display_data"
    }
   ],
   "source": [
    "# Detect outliers\n",
    "y_mean = y.mean()\n",
    "y_std = y.std()\n",
    "outliers = y[y-y_mean >4*y_std]  # For classifier problem, 4 sigma is used\n",
    "print 'Percentage of outliers to be removed: %.1f' % (len(outliers)*100./len(y)),'%'\n",
    "\n",
    "# Remove outliers\n",
    "c_data = data.copy()\n",
    "c_data = data.drop(outliers.index)\n",
    "\n",
    "# Show summary statistics\n",
    "y = c_data['ARR_DELAY_NEW']\n",
    "plt.figure(figsize=(8,4))\n",
    "plt.hist(y,bins =100)\n",
    "plt.title('Arrival Delay Distribution w/o Outliers')\n",
    "plt.xlabel('Delayed (Mins)')\n",
    "plt.ylabel('# of Arrival')\n",
    "print('Summary of ARRIVAL_DELAY statistics: ')\n",
    "display(y.describe())\n",
    "\n",
    "ontime = y[y==0].count()*100./len(y)\n",
    "print 'On Time Flight percentage after outliers are removed : %0.2f' % ontime, '%'\n"
   ]
  },
  {
   "cell_type": "markdown",
   "metadata": {
    "collapsed": false
   },
   "source": [
    "### Show delayed arrival (minutes) by mean  for each category"
   ]
  },
  {
   "cell_type": "code",
   "execution_count": 8,
   "metadata": {
    "collapsed": false
   },
   "outputs": [
    {
     "data": {
      "text/plain": [
       "<matplotlib.axes._subplots.AxesSubplot at 0x11489e490>"
      ]
     },
     "execution_count": 8,
     "metadata": {},
     "output_type": "execute_result"
    },
    {
     "data": {
      "image/png": "[encoded data removed]",
      "text/plain": [
       "<matplotlib.figure.Figure at 0x114811dd0>"
      ]
     },
     "metadata": {},
     "output_type": "display_data"
    },
    {
     "data": {
      "image/png": "[encoded data removed]",
      "text/plain": [
       "<matplotlib.figure.Figure at 0x11384d290>"
      ]
     },
     "metadata": {},
     "output_type": "display_data"
    },
    {
     "data": {
      "image/png": "[encoded data removed]",
      "text/plain": [
       "<matplotlib.figure.Figure at 0x115280190>"
      ]
     },
     "metadata": {},
     "output_type": "display_data"
    },
    {
     "data": {
      "image/png": "[encoded data removed]",
      "text/plain": [
       "<matplotlib.figure.Figure at 0x1152cd610>"
      ]
     },
     "metadata": {},
     "output_type": "display_data"
    },
    {
     "data": {
      "image/png": "[encoded data removed]",
      "text/plain": [
       "<matplotlib.figure.Figure at 0x1154df490>"
      ]
     },
     "metadata": {},
     "output_type": "display_data"
    },
    {
     "data": {
      "image/png": "[encoded data removed]",
      "text/plain": [
       "<matplotlib.figure.Figure at 0x114757f90>"
      ]
     },
     "metadata": {},
     "output_type": "display_data"
    }
   ],
   "source": [
    "delay_carrier = c_data[['ARR_DELAY_NEW','UNIQUE_CARRIER']].groupby('UNIQUE_CARRIER').mean()\n",
    "delay_carrier.plot(kind='bar',figsize =(8,4),title = 'Delay Mean by UNIQUE_CARRIER')\n",
    "\n",
    "delay_day = c_data[['ARR_DELAY_NEW','DAY_OF_WEEK']].groupby('DAY_OF_WEEK').mean()\n",
    "delay_day.plot(kind='bar',figsize =(8,4),title = 'Delay Mean by DAY_OF_WEEK')\n",
    "\n",
    "delay_origin = c_data[['ARR_DELAY_NEW','ORIGIN']].groupby('ORIGIN').mean()\n",
    "delay_origin.plot(kind='bar',figsize =(8,4),title = 'Delay Mean by ORIGIN')\n",
    "\n",
    "delay_dest = c_data[['ARR_DELAY_NEW','DEST']].groupby('DEST').mean()\n",
    "delay_dest.plot(kind='bar',figsize =(8,4),title = 'Delay Mean by DEST')\n",
    "\n",
    "#delay_tail = c_data[['ARR_DELAY_NEW','FL_NUM']].groupby('FL_NUM').mean()\n",
    "#delay_tail.plot(kind='bar',figsize =(8,4),title = 'Delay Mean by FL_NUM')\n",
    "\n",
    "# Bucketze the distantce by 100.\n",
    "c_data.loc[:,'distance'] = [int(i//100) for i in c_data['DISTANCE']]  \n",
    "\n",
    "delay_distance = c_data[['ARR_DELAY_NEW','distance']].groupby('distance').mean()\n",
    "delay_distance.plot(kind='bar',figsize =(8,4),title = 'Delay Mean by DISTANCE')\n",
    "\n",
    "# Bucketize time by hours\n",
    "c_data.loc[:,'dep_time'] = [i//100 for i in c_data['CRS_DEP_TIME']]   \n",
    "delay_dep_time = c_data[['ARR_DELAY_NEW','dep_time']].groupby('dep_time').mean()\n",
    "delay_dep_time.plot(kind='bar',figsize =(8,4),title = 'Delay Mean by CRS_DEP_TIME')\n",
    "\n",
    "\n",
    "#delay_month = c_data[['ARR_DELAY_NEW','MONTH']].groupby('MONTH').mean()\n",
    "#delay_month.plot(kind='bar',figsize =(8,4),title = 'Delay Mean by MONTH') \n"
   ]
  },
  {
   "cell_type": "markdown",
   "metadata": {
    "collapsed": true
   },
   "source": [
    "### Show on-time arrival percentage for each category"
   ]
  },
  {
   "cell_type": "code",
   "execution_count": 9,
   "metadata": {
    "collapsed": false
   },
   "outputs": [
    {
     "data": {
      "text/plain": [
       "<matplotlib.axes._subplots.AxesSubplot at 0x1137fbb10>"
      ]
     },
     "execution_count": 9,
     "metadata": {},
     "output_type": "execute_result"
    },
    {
     "data": {
      "image/png": "[encoded data removed]",
      "text/plain": [
       "<matplotlib.figure.Figure at 0x113c6c510>"
      ]
     },
     "metadata": {},
     "output_type": "display_data"
    },
    {
     "data": {
      "image/png": "[encoded data removed]",
      "text/plain": [
       "<matplotlib.figure.Figure at 0x115280290>"
      ]
     },
     "metadata": {},
     "output_type": "display_data"
    },
    {
     "data": {
      "image/png": "[encoded data removed]",
      "text/plain": [
       "<matplotlib.figure.Figure at 0x1153463d0>"
      ]
     },
     "metadata": {},
     "output_type": "display_data"
    },
    {
     "data": {
      "image/png": "[encoded data removed]",
      "text/plain": [
       "<matplotlib.figure.Figure at 0x11540ec10>"
      ]
     },
     "metadata": {},
     "output_type": "display_data"
    },
    {
     "data": {
      "image/png": "[encoded data removed]",
      "text/plain": [
       "<matplotlib.figure.Figure at 0x1154df650>"
      ]
     },
     "metadata": {},
     "output_type": "display_data"
    },
    {
     "data": {
      "image/png": "[encoded data removed]",
      "text/plain": [
       "<matplotlib.figure.Figure at 0x114757ad0>"
      ]
     },
     "metadata": {},
     "output_type": "display_data"
    }
   ],
   "source": [
    "on_time = y ==0\n",
    "\n",
    "c_data.loc[:,'on_time'] = on_time\n",
    "\n",
    "delay_carrier = c_data[['on_time','UNIQUE_CARRIER']].groupby('UNIQUE_CARRIER').mean()*100\n",
    "delay_carrier.plot(kind='bar',figsize =(8,4),title = 'On Time Percentage by UNIQUE_CARRIER')\n",
    "\n",
    "delay_day = c_data[['on_time','DAY_OF_WEEK']].groupby('DAY_OF_WEEK').mean()*100\n",
    "delay_day.plot(kind='bar',figsize =(8,4),title = 'On Time Percentage by DAY_OF_WEEK')\n",
    "\n",
    "delay_origin = c_data[['on_time','ORIGIN']].groupby('ORIGIN').mean()*100\n",
    "delay_origin.plot(kind='bar',figsize =(8,4),title = 'On Time Percentage by ORIGIN')\n",
    "\n",
    "delay_dest = c_data[['on_time','DEST']].groupby('DEST').mean()*100\n",
    "delay_dest.plot(kind='bar',figsize =(8,4),title = 'On Time Percentage by DEST')\n",
    "\n",
    "#delay_tail = c_data[['on_time','FL_NUM']].groupby('FL_NUM').mean()\n",
    "#delay_tail.plot(kind='bar',figsize =(8,4),title = 'Delay Mean by FL_NUM')\n",
    "\n",
    "delay_distance = c_data[['on_time','distance']].groupby('distance').mean()*100\n",
    "delay_distance.plot(kind='bar',figsize =(8,4),title = 'On Time Percentage by DISTANCE')\n",
    "\n",
    "# Bucketize time by hours   \n",
    "delay_dep_time = c_data[['on_time','dep_time']].groupby('dep_time').mean()*100\n",
    "delay_dep_time.plot(kind='bar',figsize =(8,4),title = 'On Time Percentage by CRS_DEP_TIME')\n",
    "\n",
    "\n",
    "#delay_month = c_data[['on_time','MONTH']].groupby('MONTH').mean()\n",
    "#delay_month.plot(kind='bar',figsize =(8,4),title = 'Delay Mean by MONTH') \n",
    "\n"
   ]
  },
  {
   "cell_type": "markdown",
   "metadata": {},
   "source": [
    "## Preprocess the data"
   ]
  },
  {
   "cell_type": "markdown",
   "metadata": {},
   "source": [
    "#### Encode categorical data into binary numbers using 'pd.get_dummies'"
   ]
  },
  {
   "cell_type": "code",
   "execution_count": 10,
   "metadata": {
    "collapsed": false
   },
   "outputs": [
    {
     "data": {
      "text/plain": [
       "Index([u'day_c_1', u'day_c_2', u'day_c_3', u'day_c_4', u'day_c_5', u'day_c_6',\n",
       "       u'day_c_7', u'dep_time_c_0', u'dep_time_c_1', u'dep_time_c_10',\n",
       "       u'dep_time_c_11', u'dep_time_c_12', u'dep_time_c_13', u'dep_time_c_14',\n",
       "       u'dep_time_c_15', u'dep_time_c_16', u'dep_time_c_17', u'dep_time_c_18',\n",
       "       u'dep_time_c_19', u'dep_time_c_2', u'dep_time_c_20', u'dep_time_c_21',\n",
       "       u'dep_time_c_22', u'dep_time_c_23', u'dep_time_c_5', u'dep_time_c_6',\n",
       "       u'dep_time_c_7', u'dep_time_c_8', u'dep_time_c_9', u'distance_c_10',\n",
       "       u'distance_c_12', u'distance_c_13', u'distance_c_14', u'distance_c_15',\n",
       "       u'distance_c_17', u'distance_c_18', u'distance_c_19', u'distance_c_2',\n",
       "       u'distance_c_21', u'distance_c_22', u'distance_c_24', u'distance_c_25',\n",
       "       u'distance_c_3', u'distance_c_4', u'distance_c_5', u'distance_c_6',\n",
       "       u'distance_c_7', u'distance_c_8', u'distance_c_9', u'UNIQUE_CARRIER_AA',\n",
       "       u'UNIQUE_CARRIER_B6', u'UNIQUE_CARRIER_DL', u'UNIQUE_CARRIER_EV',\n",
       "       u'UNIQUE_CARRIER_F9', u'UNIQUE_CARRIER_NK', u'UNIQUE_CARRIER_OO',\n",
       "       u'UNIQUE_CARRIER_UA', u'UNIQUE_CARRIER_VX', u'UNIQUE_CARRIER_WN',\n",
       "       u'ORIGIN_ATL', u'ORIGIN_CLT', u'ORIGIN_DFW', u'ORIGIN_JFK',\n",
       "       u'ORIGIN_LAS', u'ORIGIN_LAX', u'ORIGIN_ORD', u'ORIGIN_PHX',\n",
       "       u'ORIGIN_SFO', u'DEST_ATL', u'DEST_CLT', u'DEST_DFW', u'DEST_JFK',\n",
       "       u'DEST_LAS', u'DEST_LAX', u'DEST_ORD', u'DEST_PHX', u'DEST_SFO'],\n",
       "      dtype='object')"
      ]
     },
     "metadata": {},
     "output_type": "display_data"
    },
    {
     "data": {
      "text/html": [
       "<div>\n",
       "<table border=\"1\" class=\"dataframe\">\n",
       "  <thead>\n",
       "    <tr style=\"text-align: right;\">\n",
       "      <th></th>\n",
       "      <th>day_c_1</th>\n",
       "      <th>day_c_2</th>\n",
       "      <th>day_c_3</th>\n",
       "      <th>day_c_4</th>\n",
       "      <th>day_c_5</th>\n",
       "      <th>day_c_6</th>\n",
       "      <th>day_c_7</th>\n",
       "      <th>dep_time_c_0</th>\n",
       "      <th>dep_time_c_1</th>\n",
       "      <th>dep_time_c_10</th>\n",
       "      <th>...</th>\n",
       "      <th>ORIGIN_SFO</th>\n",
       "      <th>DEST_ATL</th>\n",
       "      <th>DEST_CLT</th>\n",
       "      <th>DEST_DFW</th>\n",
       "      <th>DEST_JFK</th>\n",
       "      <th>DEST_LAS</th>\n",
       "      <th>DEST_LAX</th>\n",
       "      <th>DEST_ORD</th>\n",
       "      <th>DEST_PHX</th>\n",
       "      <th>DEST_SFO</th>\n",
       "    </tr>\n",
       "  </thead>\n",
       "  <tbody>\n",
       "    <tr>\n",
       "      <th>153</th>\n",
       "      <td>0.0</td>\n",
       "      <td>0.0</td>\n",
       "      <td>0.0</td>\n",
       "      <td>0.0</td>\n",
       "      <td>1.0</td>\n",
       "      <td>0.0</td>\n",
       "      <td>0.0</td>\n",
       "      <td>0.0</td>\n",
       "      <td>0.0</td>\n",
       "      <td>0.0</td>\n",
       "      <td>...</td>\n",
       "      <td>0.0</td>\n",
       "      <td>0.0</td>\n",
       "      <td>0.0</td>\n",
       "      <td>1.0</td>\n",
       "      <td>0.0</td>\n",
       "      <td>0.0</td>\n",
       "      <td>0.0</td>\n",
       "      <td>0.0</td>\n",
       "      <td>0.0</td>\n",
       "      <td>0.0</td>\n",
       "    </tr>\n",
       "    <tr>\n",
       "      <th>154</th>\n",
       "      <td>0.0</td>\n",
       "      <td>0.0</td>\n",
       "      <td>0.0</td>\n",
       "      <td>0.0</td>\n",
       "      <td>0.0</td>\n",
       "      <td>1.0</td>\n",
       "      <td>0.0</td>\n",
       "      <td>0.0</td>\n",
       "      <td>0.0</td>\n",
       "      <td>0.0</td>\n",
       "      <td>...</td>\n",
       "      <td>0.0</td>\n",
       "      <td>0.0</td>\n",
       "      <td>0.0</td>\n",
       "      <td>1.0</td>\n",
       "      <td>0.0</td>\n",
       "      <td>0.0</td>\n",
       "      <td>0.0</td>\n",
       "      <td>0.0</td>\n",
       "      <td>0.0</td>\n",
       "      <td>0.0</td>\n",
       "    </tr>\n",
       "    <tr>\n",
       "      <th>155</th>\n",
       "      <td>0.0</td>\n",
       "      <td>0.0</td>\n",
       "      <td>0.0</td>\n",
       "      <td>0.0</td>\n",
       "      <td>0.0</td>\n",
       "      <td>0.0</td>\n",
       "      <td>1.0</td>\n",
       "      <td>0.0</td>\n",
       "      <td>0.0</td>\n",
       "      <td>0.0</td>\n",
       "      <td>...</td>\n",
       "      <td>0.0</td>\n",
       "      <td>0.0</td>\n",
       "      <td>0.0</td>\n",
       "      <td>1.0</td>\n",
       "      <td>0.0</td>\n",
       "      <td>0.0</td>\n",
       "      <td>0.0</td>\n",
       "      <td>0.0</td>\n",
       "      <td>0.0</td>\n",
       "      <td>0.0</td>\n",
       "    </tr>\n",
       "    <tr>\n",
       "      <th>156</th>\n",
       "      <td>1.0</td>\n",
       "      <td>0.0</td>\n",
       "      <td>0.0</td>\n",
       "      <td>0.0</td>\n",
       "      <td>0.0</td>\n",
       "      <td>0.0</td>\n",
       "      <td>0.0</td>\n",
       "      <td>0.0</td>\n",
       "      <td>0.0</td>\n",
       "      <td>0.0</td>\n",
       "      <td>...</td>\n",
       "      <td>0.0</td>\n",
       "      <td>0.0</td>\n",
       "      <td>0.0</td>\n",
       "      <td>1.0</td>\n",
       "      <td>0.0</td>\n",
       "      <td>0.0</td>\n",
       "      <td>0.0</td>\n",
       "      <td>0.0</td>\n",
       "      <td>0.0</td>\n",
       "      <td>0.0</td>\n",
       "    </tr>\n",
       "    <tr>\n",
       "      <th>157</th>\n",
       "      <td>0.0</td>\n",
       "      <td>1.0</td>\n",
       "      <td>0.0</td>\n",
       "      <td>0.0</td>\n",
       "      <td>0.0</td>\n",
       "      <td>0.0</td>\n",
       "      <td>0.0</td>\n",
       "      <td>0.0</td>\n",
       "      <td>0.0</td>\n",
       "      <td>0.0</td>\n",
       "      <td>...</td>\n",
       "      <td>0.0</td>\n",
       "      <td>0.0</td>\n",
       "      <td>0.0</td>\n",
       "      <td>1.0</td>\n",
       "      <td>0.0</td>\n",
       "      <td>0.0</td>\n",
       "      <td>0.0</td>\n",
       "      <td>0.0</td>\n",
       "      <td>0.0</td>\n",
       "      <td>0.0</td>\n",
       "    </tr>\n",
       "  </tbody>\n",
       "</table>\n",
       "<p>5 rows × 77 columns</p>\n",
       "</div>"
      ],
      "text/plain": [
       "     day_c_1  day_c_2  day_c_3  day_c_4  day_c_5  day_c_6  day_c_7  \\\n",
       "153      0.0      0.0      0.0      0.0      1.0      0.0      0.0   \n",
       "154      0.0      0.0      0.0      0.0      0.0      1.0      0.0   \n",
       "155      0.0      0.0      0.0      0.0      0.0      0.0      1.0   \n",
       "156      1.0      0.0      0.0      0.0      0.0      0.0      0.0   \n",
       "157      0.0      1.0      0.0      0.0      0.0      0.0      0.0   \n",
       "\n",
       "     dep_time_c_0  dep_time_c_1  dep_time_c_10    ...     ORIGIN_SFO  \\\n",
       "153           0.0           0.0            0.0    ...            0.0   \n",
       "154           0.0           0.0            0.0    ...            0.0   \n",
       "155           0.0           0.0            0.0    ...            0.0   \n",
       "156           0.0           0.0            0.0    ...            0.0   \n",
       "157           0.0           0.0            0.0    ...            0.0   \n",
       "\n",
       "     DEST_ATL  DEST_CLT  DEST_DFW  DEST_JFK  DEST_LAS  DEST_LAX  DEST_ORD  \\\n",
       "153       0.0       0.0       1.0       0.0       0.0       0.0       0.0   \n",
       "154       0.0       0.0       1.0       0.0       0.0       0.0       0.0   \n",
       "155       0.0       0.0       1.0       0.0       0.0       0.0       0.0   \n",
       "156       0.0       0.0       1.0       0.0       0.0       0.0       0.0   \n",
       "157       0.0       0.0       1.0       0.0       0.0       0.0       0.0   \n",
       "\n",
       "     DEST_PHX  DEST_SFO  \n",
       "153       0.0       0.0  \n",
       "154       0.0       0.0  \n",
       "155       0.0       0.0  \n",
       "156       0.0       0.0  \n",
       "157       0.0       0.0  \n",
       "\n",
       "[5 rows x 77 columns]"
      ]
     },
     "metadata": {},
     "output_type": "display_data"
    }
   ],
   "source": [
    "# Convert numerical categorical data to strings\n",
    "c_data.loc[:,'distance_c'] = [str(i) for i in c_data['distance']] \n",
    "c_data.loc[:,'dep_time_c'] = [str(i) for i in c_data['dep_time']] \n",
    "c_data.loc[:,'day_c'] = [str(i) for i in c_data['DAY_OF_WEEK']] \n",
    "\n",
    "cat_cols = ['day_c','dep_time_c','distance_c','UNIQUE_CARRIER','ORIGIN','DEST']\n",
    "r_data = pd.get_dummies(c_data[cat_cols])\n",
    "y = c_data['on_time']\n",
    "X = r_data\n",
    "display(r_data.columns)\n",
    "display( r_data.head())"
   ]
  },
  {
   "cell_type": "markdown",
   "metadata": {},
   "source": [
    "### Scale Data  \n",
    "#### Not neccessary for this applicaton since all features are OneHotEncoded - all feature values are 0 or 1.\n",
    "\n"
   ]
  },
  {
   "cell_type": "markdown",
   "metadata": {},
   "source": [
    "## Randomly split the data into test and train set"
   ]
  },
  {
   "cell_type": "code",
   "execution_count": 11,
   "metadata": {
    "collapsed": false
   },
   "outputs": [
    {
     "name": "stdout",
     "output_type": "stream",
     "text": [
      "Blanced data set(# of True/ of Total): 0.629\n"
     ]
    },
    {
     "data": {
      "text/plain": [
       "((22176, 77), (9504, 77), (22176,), (9504,))"
      ]
     },
     "execution_count": 11,
     "metadata": {},
     "output_type": "execute_result"
    }
   ],
   "source": [
    "from sklearn.cross_validation import train_test_split\n",
    "X_train,X_test,y_train,y_test = train_test_split(X,y,test_size =0.3,random_state =0)\n",
    "\n",
    "print 'Blanced data set(# of True/ of Total): %.3f' % (float(y_train.sum())/len(y_train))\n",
    "X_train.shape, X_test.shape, y_train.shape, y_test.shape"
   ]
  },
  {
   "cell_type": "markdown",
   "metadata": {},
   "source": [
    "### Reduce the dimensionality of the features.\n",
    "Applied PCA to identify the dominant features (= princial axes)"
   ]
  },
  {
   "cell_type": "code",
   "execution_count": 12,
   "metadata": {
    "collapsed": false
   },
   "outputs": [
    {
     "name": "stdout",
     "output_type": "stream",
     "text": [
      "[  6.75377452e-02   4.48706438e-02   4.12287412e-02   3.76263846e-02\n",
      "   3.63387995e-02   3.08979340e-02   2.94865384e-02   2.89073879e-02\n",
      "   2.82844670e-02   2.65183600e-02   2.60605783e-02   2.57377810e-02\n",
      "   2.54547039e-02   2.51190425e-02   2.45171495e-02   2.36897230e-02\n",
      "   2.26868052e-02   2.16527383e-02   2.07120914e-02   2.03922852e-02\n",
      "   1.63176230e-02   1.56802772e-02   1.46661442e-02   1.43828658e-02\n",
      "   1.39546847e-02   1.36114739e-02   1.31611058e-02   1.29105343e-02\n",
      "   1.25232896e-02   1.23004517e-02   1.22083963e-02   1.20642515e-02\n",
      "   1.16538417e-02   1.15309200e-02   1.13511668e-02   1.12009172e-02\n",
      "   1.04210751e-02   1.01507913e-02   1.00593429e-02   9.89571094e-03\n",
      "   9.76371061e-03   9.39019000e-03   9.21853131e-03   8.69442188e-03\n",
      "   8.29410191e-03   8.01672389e-03   7.37128924e-03   6.81228506e-03\n",
      "   6.67348267e-03   6.48155216e-03   6.20823335e-03   6.00276359e-03\n",
      "   5.69258560e-03   5.53355003e-03   5.28232049e-03   5.00096549e-03\n",
      "   4.33347504e-03   3.33925660e-03   3.11065534e-03   2.96444007e-03\n",
      "   2.90183593e-03   2.42827860e-03   2.29009420e-03   1.72581358e-03\n",
      "   1.37536974e-03   9.95100364e-04   8.81925264e-04   7.72616191e-04\n",
      "   3.65673650e-04   2.87259263e-04   2.67349063e-05   7.88550558e-30\n",
      "   1.49436040e-30   1.60718863e-31   3.35440793e-32   2.26788077e-32\n",
      "   7.56308581e-33]\n"
     ]
    },
    {
     "data": {
      "image/png": "[encoded data removed]",
      "text/plain": [
       "<matplotlib.figure.Figure at 0x113c64e90>"
      ]
     },
     "metadata": {},
     "output_type": "display_data"
    }
   ],
   "source": [
    "from sklearn.decomposition import PCA\n",
    "pca = PCA()\n",
    "pca.fit(X_train)\n",
    "plt.plot(pca.explained_variance_ratio_*100)\n",
    "plt.title('pca.explained_variance_ratio_')\n",
    "plt.xlabel('n_components')\n",
    "plt.ylabel('variance_ratio')\n",
    "print pca.explained_variance_ratio_"
   ]
  },
  {
   "cell_type": "markdown",
   "metadata": {},
   "source": [
    "### ==> Select first 20 features by inspecting pca.explained_variance "
   ]
  },
  {
   "cell_type": "markdown",
   "metadata": {
    "collapsed": false
   },
   "source": [
    "#Not Applied no impact on the overall performance  in this application\n",
    "#Apply PCA to X_train and X_test\n",
    "pca60 = PCA(n_components = 20)\n",
    "pca60.fit(X_train)\n",
    "X_train_pca = pca60.transform(X_train)\n",
    "X_test_pca = pca60.transform(X_test)   # pca60 is fitted by X_train, not X_test\n",
    "X_train = X_train_pca\n",
    "X_test = X_test_pca\n",
    "print X_train"
   ]
  },
  {
   "cell_type": "markdown",
   "metadata": {},
   "source": [
    "## Try out a few classifier algorithms on training set"
   ]
  },
  {
   "cell_type": "code",
   "execution_count": 13,
   "metadata": {
    "collapsed": false
   },
   "outputs": [],
   "source": [
    "# Display classifier performance score\n",
    "from sklearn.metrics import accuracy_score,f1_score, precision_score, recall_score,roc_auc_score\n",
    "\n",
    "def display_scores(y_test,y_pred):\n",
    "    print '# of Data:',len(y_test) \n",
    "    print 'Accuracy: %.3f' %  accuracy_score(y_test,y_pred)\n",
    "    print 'Precision: %.3f' %  precision_score(y_test,y_pred)\n",
    "    print 'Recall: %.3f' %  recall_score(y_test,y_pred)\n",
    "    print 'F1 Score: %.3f' %  f1_score(y_test,y_pred)\n",
    "    print 'ROC AUC: %.3f' %  roc_auc_score(y_test,y_pred)\n",
    "    print\n",
    "\n",
    "# K-fold cross-validate\n",
    "from sklearn.cross_validation import cross_val_score\n",
    "\n",
    "def cross_validate(estimator,X_train,y_train):\n",
    "    scores = cross_val_score(estimator=estimator,X=X_train,y=y_train,cv=5,n_jobs=-1)\n",
    "    print ('CV accuracy_scores: %s' % scores)\n",
    "    print ('CV accuracy: %.3f +/- %.3f' % (np.mean(scores),np.std(scores)))\n",
    "    print\n",
    "\n",
    "from sklearn.metrics import roc_curve, auc\n",
    "def plot_roc_curve(y_test,y_pred): \n",
    "    fpr,tpr,thresholds = roc_curve(y_test, y_pred)\n",
    "    roc_auc = auc(fpr,tpr)\n",
    "    plt.plot(fpr,tpr , color='darkorange', label='ROC curve (area = %0.2f)' % roc_auc)\n",
    "    plt.xlabel('False Positive Rate')\n",
    "    Plt.ylabel('True Postive Rate')\n",
    "    plt.show()\n",
    "\n",
    "from sklearn.metrics import confusion_matrix\n",
    "def show_confusion_matrix(y_test,y_pred):\n",
    "    confmat = confusion_matrix(y_test,y_pred)\n",
    "    fig,ax = plt.subplots(figsize =(4,4))\n",
    "    ax.matshow(confmat, cmap=plt.cm.Blues, alpha=0.3)\n",
    "    for i in range(confmat.shape[0]):\n",
    "        for j in range(confmat.shape[1]):\n",
    "            ax.text(x=j,y=i, s=confmat[i,j], va='center',ha='center')\n",
    "    plt.xlabel('predicted label')\n",
    "    plt.ylabel('true label')\n",
    "    plt.show()"
   ]
  },
  {
   "cell_type": "markdown",
   "metadata": {},
   "source": [
    "### Decison Tree Classifier"
   ]
  },
  {
   "cell_type": "code",
   "execution_count": 14,
   "metadata": {
    "collapsed": false
   },
   "outputs": [
    {
     "data": {
      "image/png": "[encoded data removed]",
      "text/plain": [
       "<matplotlib.figure.Figure at 0x10314ef90>"
      ]
     },
     "metadata": {},
     "output_type": "display_data"
    },
    {
     "name": "stdout",
     "output_type": "stream",
     "text": [
      "# of Data: 22176\n",
      "Accuracy: 0.796\n",
      "Precision: 0.861\n",
      "Recall: 0.806\n",
      "F1 Score: 0.833\n",
      "ROC AUC: 0.793\n",
      "\n",
      "CV accuracy_scores: [ 0.58228133  0.58025248  0.57790304  0.58624577  0.5834461 ]\n",
      "CV accuracy: 0.582 +/- 0.003\n",
      "\n"
     ]
    }
   ],
   "source": [
    "from sklearn.metrics import accuracy_score,f1_score, precision_score, recall_score\n",
    "from sklearn.tree import DecisionTreeClassifier\n",
    "dtc = DecisionTreeClassifier(random_state =0)\n",
    "dtc.fit(X_train,y_train)\n",
    "y_pred = dtc.predict(X_train)\n",
    "\n",
    "show_confusion_matrix(y_train,y_pred)\n",
    "display_scores(y_train,y_pred)\n",
    "cross_validate(dtc,X_train,y_train)"
   ]
  },
  {
   "cell_type": "markdown",
   "metadata": {},
   "source": [
    "### Random Forest Classifier"
   ]
  },
  {
   "cell_type": "code",
   "execution_count": 15,
   "metadata": {
    "collapsed": false
   },
   "outputs": [
    {
     "data": {
      "image/png": "[encoded data removed]",
      "text/plain": [
       "<matplotlib.figure.Figure at 0x115384f90>"
      ]
     },
     "metadata": {},
     "output_type": "display_data"
    },
    {
     "name": "stdout",
     "output_type": "stream",
     "text": [
      "# of Data: 22176\n",
      "Accuracy: 0.791\n",
      "Precision: 0.813\n",
      "Recall: 0.868\n",
      "F1 Score: 0.839\n",
      "ROC AUC: 0.764\n",
      "\n",
      "CV accuracy_scores: [ 0.6138413   0.60640216  0.60157835  0.6065389   0.60960758]\n",
      "CV accuracy: 0.608 +/- 0.004\n",
      "\n"
     ]
    }
   ],
   "source": [
    "from sklearn.ensemble import RandomForestClassifier\n",
    "rfc = RandomForestClassifier(random_state = 0)\n",
    "rfc.fit(X_train,y_train)\n",
    "y_pred = rfc.predict(X_train)\n",
    "\n",
    "show_confusion_matrix(y_train,y_pred)\n",
    "display_scores(y_train,y_pred)\n",
    "cross_validate(rfc,X_train,y_train)"
   ]
  },
  {
   "cell_type": "markdown",
   "metadata": {},
   "source": [
    "### Logistic Regression Classifier"
   ]
  },
  {
   "cell_type": "code",
   "execution_count": 17,
   "metadata": {
    "collapsed": false
   },
   "outputs": [
    {
     "data": {
      "image/png": "[encoded data removed]",
      "text/plain": [
       "<matplotlib.figure.Figure at 0x113b4a7d0>"
      ]
     },
     "metadata": {},
     "output_type": "display_data"
    },
    {
     "name": "stdout",
     "output_type": "stream",
     "text": [
      "# of Data: 22176\n",
      "Accuracy: 0.658\n",
      "Precision: 0.674\n",
      "Recall: 0.883\n",
      "F1 Score: 0.765\n",
      "ROC AUC: 0.580\n",
      "\n",
      "CV accuracy_scores: [ 0.65554554  0.65915239  0.64847802  0.64735062  0.66599008]\n",
      "CV accuracy: 0.655 +/- 0.007\n",
      "\n"
     ]
    }
   ],
   "source": [
    "from sklearn.linear_model import LogisticRegression\n",
    "lgr = LogisticRegression(random_state =0)\n",
    "lgr.fit(X_train,y_train)\n",
    "y_pred = lgr.predict(X_train)\n",
    "\n",
    "show_confusion_matrix(y_train,y_pred)\n",
    "display_scores(y_train,y_pred)\n",
    "cross_validate(lgr,X_train,y_train)"
   ]
  },
  {
   "cell_type": "markdown",
   "metadata": {},
   "source": [
    "### Support Vector Machine Classifier"
   ]
  },
  {
   "cell_type": "code",
   "execution_count": 18,
   "metadata": {
    "collapsed": false
   },
   "outputs": [
    {
     "data": {
      "image/png": "[encoded data removed]",
      "text/plain": [
       "<matplotlib.figure.Figure at 0x11347d2d0>"
      ]
     },
     "metadata": {},
     "output_type": "display_data"
    },
    {
     "name": "stdout",
     "output_type": "stream",
     "text": [
      "# of Data: 22176\n",
      "Accuracy: 0.648\n",
      "Precision: 0.654\n",
      "Recall: 0.933\n",
      "F1 Score: 0.769\n",
      "ROC AUC: 0.548\n",
      "\n",
      "CV accuracy_scores: [ 0.62669071  0.62917042  0.6421646   0.63201804  0.6330627 ]\n",
      "CV accuracy: 0.633 +/- 0.005\n",
      "\n"
     ]
    }
   ],
   "source": [
    "from sklearn.svm import SVC\n",
    "\n",
    "svc = SVC(random_state = 0)\n",
    "svc.fit(X_train,y_train)\n",
    "y_pred = svc.predict(X_train)\n",
    "\n",
    "show_confusion_matrix(y_train,y_pred)\n",
    "display_scores(y_train,y_pred)\n",
    "cross_validate(svc,X_train,y_train)"
   ]
  },
  {
   "cell_type": "markdown",
   "metadata": {},
   "source": [
    "### GaussianNB "
   ]
  },
  {
   "cell_type": "code",
   "execution_count": 19,
   "metadata": {
    "collapsed": false,
    "scrolled": true
   },
   "outputs": [
    {
     "data": {
      "image/png": "[encoded data removed]",
      "text/plain": [
       "<matplotlib.figure.Figure at 0x114f0d410>"
      ]
     },
     "metadata": {},
     "output_type": "display_data"
    },
    {
     "name": "stdout",
     "output_type": "stream",
     "text": [
      "# of Data: 22176\n",
      "Accuracy: 0.610\n",
      "Precision: 0.725\n",
      "Recall: 0.612\n",
      "F1 Score: 0.664\n",
      "ROC AUC: 0.609\n",
      "\n",
      "CV accuracy_scores: [ 0.44792606  0.61767358  0.60315671  0.60992108  0.60915652]\n",
      "CV accuracy: 0.578 +/- 0.065\n",
      "\n"
     ]
    }
   ],
   "source": [
    "from sklearn.naive_bayes import GaussianNB\n",
    "gnb = GaussianNB()\n",
    "gnb.fit(X_train,y_train)\n",
    "y_pred = gnb.predict(X_train)\n",
    "\n",
    "show_confusion_matrix(y_train,y_pred)\n",
    "display_scores(y_train,y_pred)\n",
    "cross_validate(gnb,X_train,y_train)\n"
   ]
  },
  {
   "cell_type": "markdown",
   "metadata": {},
   "source": [
    "## Summary of Classfiers Cross Validation without fine tunning: "
   ]
  },
  {
   "cell_type": "code",
   "execution_count": 20,
   "metadata": {
    "collapsed": false
   },
   "outputs": [
    {
     "name": "stdout",
     "output_type": "stream",
     "text": [
      "Decision Tree:\n",
      "CV accuracy_scores: [ 0.58228133  0.58025248  0.57790304  0.58624577  0.5834461 ]\n",
      "CV accuracy: 0.582 +/- 0.003\n",
      "\n",
      "Random Forest:\n",
      "CV accuracy_scores: [ 0.6138413   0.60640216  0.60157835  0.6065389   0.60960758]\n",
      "CV accuracy: 0.608 +/- 0.004\n",
      "\n",
      "Logistic Regression:\n",
      "CV accuracy_scores: [ 0.65554554  0.65915239  0.64847802  0.64735062  0.66599008]\n",
      "CV accuracy: 0.655 +/- 0.007\n",
      "\n",
      "Support Vector Machine:\n",
      "CV accuracy_scores: [ 0.62669071  0.62917042  0.6421646   0.63201804  0.6330627 ]\n",
      "CV accuracy: 0.633 +/- 0.005\n",
      "\n",
      "Gaussian NB:\n",
      "CV accuracy_scores: [ 0.44792606  0.61767358  0.60315671  0.60992108  0.60915652]\n",
      "CV accuracy: 0.578 +/- 0.065\n",
      "\n"
     ]
    }
   ],
   "source": [
    "print('Decision Tree:')\n",
    "cross_validate(dtc,X_train,y_train)\n",
    "print('Random Forest:')\n",
    "cross_validate(rfc,X_train,y_train)\n",
    "print('Logistic Regression:')\n",
    "cross_validate(lgr,X_train,y_train)\n",
    "print('Support Vector Machine:')\n",
    "cross_validate(svc,X_train,y_train)\n",
    "print('Gaussian NB:')\n",
    "cross_validate(gnb,X_train,y_train)\n"
   ]
  },
  {
   "cell_type": "markdown",
   "metadata": {},
   "source": [
    "###  => Logistics Regression (parametric) and RamdomForest (non-parametric) are selected based on the cross validation score and computation speed."
   ]
  },
  {
   "cell_type": "markdown",
   "metadata": {},
   "source": [
    "## Fine tuning the selected classifiers with GridSearchCV"
   ]
  },
  {
   "cell_type": "code",
   "execution_count": 21,
   "metadata": {
    "collapsed": false,
    "scrolled": true
   },
   "outputs": [
    {
     "name": "stdout",
     "output_type": "stream",
     "text": [
      "0.626037157287\n",
      "{'max_features': 'auto', 'n_estimators': 500}\n"
     ]
    }
   ],
   "source": [
    "from sklearn.grid_search import GridSearchCV\n",
    "\n",
    "rfc = RandomForestClassifier(random_state = 0)\n",
    "parameters = {'max_features':('auto','log2',None), 'n_estimators':[10,20,50,100,200,400,500]}\n",
    "rfc_gs = GridSearchCV(rfc,parameters,scoring='accuracy',n_jobs =-1,cv=5)\n",
    "rfc_gs.fit(X_train,y_train)\n",
    "print(rfc_gs.best_score_)\n",
    "print(rfc_gs.best_params_)\n"
   ]
  },
  {
   "cell_type": "code",
   "execution_count": 22,
   "metadata": {
    "collapsed": false
   },
   "outputs": [
    {
     "name": "stdout",
     "output_type": "stream",
     "text": [
      "0.655393217893\n",
      "{'penalty': 'l1', 'C': 0.1}\n"
     ]
    }
   ],
   "source": [
    "from sklearn.grid_search import GridSearchCV\n",
    "\n",
    "lgr = LogisticRegression(random_state =0)\n",
    "parameters = {'penalty':('l1','l2'), 'C':[0.001, 0.01, 0.1, 1, 10, 100, 1000] }\n",
    "lgr_gs = GridSearchCV(lgr,parameters,scoring='accuracy',n_jobs =-1,cv=5)\n",
    "lgr_gs.fit(X_train,y_train)\n",
    "print(lgr_gs.best_score_)\n",
    "print(lgr_gs.best_params_)"
   ]
  },
  {
   "cell_type": "markdown",
   "metadata": {
    "collapsed": true
   },
   "source": [
    "## Demonstrate the classifier performance on the test data (= unseen data)"
   ]
  },
  {
   "cell_type": "markdown",
   "metadata": {},
   "source": [
    "### Test accuracy-optimal Random Forest Classifier"
   ]
  },
  {
   "cell_type": "code",
   "execution_count": 25,
   "metadata": {
    "collapsed": false
   },
   "outputs": [
    {
     "data": {
      "image/png": "[encoded data removed]",
      "text/plain": [
       "<matplotlib.figure.Figure at 0x1142baa10>"
      ]
     },
     "metadata": {},
     "output_type": "display_data"
    },
    {
     "name": "stdout",
     "output_type": "stream",
     "text": [
      "# of Data: 9504\n",
      "Accuracy: 0.873\n",
      "Precision: 0.873\n",
      "Recall: 0.935\n",
      "F1 Score: 0.903\n",
      "ROC AUC: 0.850\n",
      "\n"
     ]
    }
   ],
   "source": [
    "rfc_opt = RandomForestClassifier(max_features = rfc_gs.best_params_['max_features'],n_estimators = rfc_gs.best_params_['n_estimators'],random_state =0)\n",
    "rfc_opt.fit(X_test,y_test)\n",
    "y_pred = rfc_opt.predict(X_test)\n",
    "\n",
    "show_confusion_matrix(y_test,y_pred)\n",
    "display_scores(y_test,y_pred)"
   ]
  },
  {
   "cell_type": "markdown",
   "metadata": {},
   "source": [
    "#### => Random Forest achieved accuracy of 0.873  with unseen test data set"
   ]
  },
  {
   "cell_type": "markdown",
   "metadata": {},
   "source": [
    "### Test accuracy-optimal Logistic Regressio Classifier"
   ]
  },
  {
   "cell_type": "code",
   "execution_count": 24,
   "metadata": {
    "collapsed": false
   },
   "outputs": [
    {
     "data": {
      "image/png": "[encoded data removed]",
      "text/plain": [
       "<matplotlib.figure.Figure at 0x1142ad5d0>"
      ]
     },
     "metadata": {},
     "output_type": "display_data"
    },
    {
     "name": "stdout",
     "output_type": "stream",
     "text": [
      "# of Data: 9504\n",
      "Accuracy: 0.660\n",
      "Precision: 0.670\n",
      "Recall: 0.912\n",
      "F1 Score: 0.772\n",
      "ROC AUC: 0.568\n",
      "\n"
     ]
    }
   ],
   "source": [
    "lgr_opt = LogisticRegression(penalty = lgr_gs.best_params_['penalty'],C = lgr_gs.best_params_['C'],random_state =0)\n",
    "lgr_opt.fit(X_test,y_test)\n",
    "y_pred = lgr_opt.predict(X_test)\n",
    "\n",
    "show_confusion_matrix(y_test,y_pred)\n",
    "display_scores(y_test,y_pred)"
   ]
  },
  {
   "cell_type": "markdown",
   "metadata": {
    "collapsed": true
   },
   "source": [
    "#### => Logistic regression achieved  accuray of 0.660 only with unseen test data set"
   ]
  },
  {
   "cell_type": "code",
   "execution_count": null,
   "metadata": {
    "collapsed": true
   },
   "outputs": [],
   "source": []
  }
 ],
 "metadata": {
  "anaconda-cloud": {},
  "kernelspec": {
   "display_name": "Python [Root]",
   "language": "python",
   "name": "Python [Root]"
  },
  "language_info": {
   "codemirror_mode": {
    "name": "ipython",
    "version": 2
   },
   "file_extension": ".py",
   "mimetype": "text/x-python",
   "name": "python",
   "nbconvert_exporter": "python",
   "pygments_lexer": "ipython2",
   "version": "2.7.12"
  }
 },
 "nbformat": 4,
 "nbformat_minor": 0
}
